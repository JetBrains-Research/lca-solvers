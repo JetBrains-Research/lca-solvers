{
 "cells": [
  {
   "cell_type": "code",
   "execution_count": 1,
   "id": "initial_id",
   "metadata": {},
   "outputs": [],
   "source": [
    "import random\n",
    "from string import printable\n",
    "\n",
    "from transformers import AutoTokenizer"
   ]
  },
  {
   "cell_type": "code",
   "execution_count": 2,
   "id": "ee4759e0-26f9-4e56-b331-a621f3b26b14",
   "metadata": {},
   "outputs": [],
   "source": [
    "def random_string(length: int, seed: int = 42) -> str:\n",
    "    return ''.join(random.Random(seed).choices(printable, k=length))"
   ]
  },
  {
   "cell_type": "code",
   "execution_count": 3,
   "id": "36cd6f12-52ee-4f55-856d-8e4d1cc7d3b0",
   "metadata": {},
   "outputs": [
    {
     "name": "stderr",
     "output_type": "stream",
     "text": [
      "Special tokens have been added in the vocabulary, make sure the associated word embeddings are fine-tuned or trained.\n"
     ]
    }
   ],
   "source": [
    "tokenizer = AutoTokenizer.from_pretrained('deepseek-ai/deepseek-coder-1.3b-base', trust_remote_code=True)"
   ]
  },
  {
   "cell_type": "code",
   "execution_count": 4,
   "id": "22c94ae2-49c2-408c-858c-06f4ca9f8b08",
   "metadata": {},
   "outputs": [],
   "source": [
    "string = random_string(1_000_000)\n",
    "smaller_string = string[:10_000]"
   ]
  },
  {
   "cell_type": "code",
   "execution_count": 5,
   "id": "b6a3126f-7eb5-43ca-9a6c-efa5c8135b88",
   "metadata": {},
   "outputs": [
    {
     "name": "stdout",
     "output_type": "stream",
     "text": [
      "2.48 s ± 27 ms per loop (mean ± std. dev. of 7 runs, 1 loop each)\n"
     ]
    }
   ],
   "source": [
    "%%timeit\n",
    "tokenizer(string, max_length=1000, truncation=True)"
   ]
  },
  {
   "cell_type": "code",
   "execution_count": 6,
   "id": "6deedfbc-0fff-46d9-8a44-e4d1ce2a8427",
   "metadata": {},
   "outputs": [
    {
     "name": "stdout",
     "output_type": "stream",
     "text": [
      "20.7 ms ± 153 μs per loop (mean ± std. dev. of 7 runs, 10 loops each)\n"
     ]
    }
   ],
   "source": [
    "%%timeit\n",
    "tokenizer(smaller_string, max_length=1000, truncation=True)"
   ]
  },
  {
   "cell_type": "code",
   "execution_count": null,
   "id": "fcef80e0-d9c6-42ca-901e-9fd8c20a07c2",
   "metadata": {},
   "outputs": [],
   "source": []
  }
 ],
 "metadata": {
  "kernelspec": {
   "display_name": "Python 3 (ipykernel)",
   "language": "python",
   "name": "python3"
  },
  "language_info": {
   "codemirror_mode": {
    "name": "ipython",
    "version": 3
   },
   "file_extension": ".py",
   "mimetype": "text/x-python",
   "name": "python",
   "nbconvert_exporter": "python",
   "pygments_lexer": "ipython3",
   "version": "3.10.12"
  }
 },
 "nbformat": 4,
 "nbformat_minor": 5
}
