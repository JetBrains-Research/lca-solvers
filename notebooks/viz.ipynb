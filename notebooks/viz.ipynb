{
 "cells": [
  {
   "cell_type": "code",
   "execution_count": 1,
   "id": "initial_id",
   "metadata": {},
   "outputs": [],
   "source": [
    "import os\n",
    "\n",
    "import jsonlines\n",
    "import matplotlib.pyplot as plt\n",
    "import numpy as np\n",
    "import pandas as pd\n",
    "import seaborn as sns"
   ]
  },
  {
   "cell_type": "code",
   "execution_count": 2,
   "id": "649c5e0d-0545-48d5-aa92-fa73c8d6f0fb",
   "metadata": {},
   "outputs": [],
   "source": [
    "sns.set_style('white')"
   ]
  },
  {
   "cell_type": "code",
   "execution_count": 3,
   "id": "a88f4b7a-9f43-416d-a133-ddee5c3ce7a5",
   "metadata": {},
   "outputs": [],
   "source": [
    "VIZ_DIR = '../viz'\n",
    "OUTPUTS_DIR = '../outputs'\n",
    "NUM_TOKENS_MEDIUM = os.path.join(OUTPUTS_DIR, 'num_tokens_medium.jsonl')\n",
    "NUM_TOKENS_LARGE = os.path.join(OUTPUTS_DIR, 'num_tokens_large.jsonl')\n",
    "\n",
    "EVAL_NAMES = ['baseline_medium', 'baseline_large'] + [\n",
    "    f'split_{num_gen_layers}_BOS{i}_medium'\n",
    "    for num_gen_layers in (4, 8, 12, 16, 20, 23)\n",
    "    for i in range(4)\n",
    "] + [\n",
    "    'split_4_BOS3_large',\n",
    "    'split_8_BOS3_large',\n",
    "    'split_12_BOS3_large',\n",
    "]"
   ]
  },
  {
   "cell_type": "code",
   "execution_count": 4,
   "id": "dc94655f-ce88-4d1b-a941-d5585f6bbb95",
   "metadata": {},
   "outputs": [],
   "source": [
    "def read_output(eval_name: str) -> tuple[np.ndarray, pd.DataFrame]:\n",
    "    path = os.path.join(OUTPUTS_DIR, f'{eval_name}.jsonl')\n",
    "    loss = list()\n",
    "    summary = list()\n",
    "\n",
    "    with jsonlines.open(path) as reader:\n",
    "        for output in reader:\n",
    "            output.pop('block_names')\n",
    "            loss.append(output.pop('cross_entropy'))\n",
    "            summary.append(output)\n",
    "\n",
    "    max_num_blocks = max(map(len, loss))\n",
    "    loss = [blocks + [np.nan] * (max_num_blocks - len(blocks)) for blocks in loss]\n",
    "    \n",
    "    return np.array(loss), pd.DataFrame(summary)"
   ]
  },
  {
   "cell_type": "code",
   "execution_count": 5,
   "id": "bafea317-9468-47a3-b182-547c0981b026",
   "metadata": {},
   "outputs": [],
   "source": [
    "losses = {eval_name: read_output(eval_name)[0] for eval_name in EVAL_NAMES}"
   ]
  },
  {
   "cell_type": "markdown",
   "id": "a80566ff-5977-4e0e-8608-9280866ccec2",
   "metadata": {},
   "source": [
    "## Finding the best BOS usage strategy"
   ]
  },
  {
   "cell_type": "code",
   "execution_count": 6,
   "id": "2552e37e-6a58-45e5-97d5-740fbf45eb2a",
   "metadata": {},
   "outputs": [],
   "source": [
    "BOS_groups = [\n",
    "    [\n",
    "        f'split_{num_gen_layers}_BOS{i}_medium'\n",
    "        for i in range(4)\n",
    "    ]\n",
    "    for num_gen_layers in (4, 8, 12, 16, 20, 23)\n",
    "]"
   ]
  },
  {
   "cell_type": "code",
   "execution_count": 7,
   "id": "b809cc66-da8f-4b5a-9b95-6a87d10cbee4",
   "metadata": {},
   "outputs": [],
   "source": [
    "def calc_better_rate(a, b) -> float:\n",
    "    num_blocks = np.sum(~np.isnan(a), axis=-1)\n",
    "    better_rate = np.sum(a <= b, axis=-1) / num_blocks\n",
    "    return np.mean(better_rate)\n",
    "\n",
    "\n",
    "def compare_within_group(group) -> tuple[plt.Figure, plt.Axes]:\n",
    "    scores = [\n",
    "        [\n",
    "            calc_better_rate(losses[eval_name_1], losses[eval_name_2])\n",
    "            for eval_name_2 in group\n",
    "        ]\n",
    "        for eval_name_1 in group\n",
    "    ]\n",
    "\n",
    "    fig, ax = plt.subplots(figsize=(8, 8))\n",
    "    ax.set_title('loss[row] <= loss[column] proportion')\n",
    "    sns.heatmap(\n",
    "        data=scores, \n",
    "        annot=True,\n",
    "        square=True,\n",
    "        xticklabels=group,\n",
    "        yticklabels=group,\n",
    "        cmap=sns.cm.rocket_r,\n",
    "        ax=ax,\n",
    "    )\n",
    "    \n",
    "    return fig, ax"
   ]
  },
  {
   "cell_type": "code",
   "execution_count": 26,
   "id": "689da38d-d732-497c-982c-7fcf14c1b649",
   "metadata": {},
   "outputs": [],
   "source": [
    "for num_gen_layers, group in zip((4, 8, 12, 16, 20, 23), BOS_groups):\n",
    "    fig, _ = compare_within_group(group)\n",
    "    path = os.path.join(VIZ_DIR, f'split_{num_gen_layers}_BOS_comparison.png')\n",
    "    fig.savefig(path, bbox_inches='tight')\n",
    "    plt.close(fig)"
   ]
  },
  {
   "cell_type": "code",
   "execution_count": 8,
   "id": "9f0537aa-9b84-4106-a8e8-9648e178bd2d",
   "metadata": {},
   "outputs": [],
   "source": [
    "BEST_EVALS = [\n",
    "    'split_4_BOS3_medium',\n",
    "    'split_8_BOS3_medium',\n",
    "    'split_12_BOS3_medium',\n",
    "    'split_16_BOS3_medium',\n",
    "    'split_20_BOS3_medium',\n",
    "    'split_23_BOS3_medium',\n",
    "    'baseline_medium',\n",
    "\n",
    "    'split_4_BOS3_large',\n",
    "    'split_8_BOS3_large',\n",
    "    'split_12_BOS3_large',\n",
    "    'baseline_large',\n",
    "]"
   ]
  },
  {
   "cell_type": "markdown",
   "id": "a52679c7-8aad-4dcd-b182-086798cee878",
   "metadata": {},
   "source": [
    "## CE improvement rate"
   ]
  },
  {
   "cell_type": "code",
   "execution_count": 9,
   "id": "f2457ee8-2269-43e6-b942-30eb0032494c",
   "metadata": {},
   "outputs": [
    {
     "name": "stdout",
     "output_type": "stream",
     "text": [
      "split_4_BOS3_medium: 1.0205\n",
      "split_8_BOS3_medium: 1.0395\n",
      "split_12_BOS3_medium: 1.0574\n",
      "split_16_BOS3_medium: 1.1154\n",
      "split_20_BOS3_medium: 1.4851\n",
      "split_23_BOS3_medium: 2.8912\n",
      "baseline_medium: 5.5676\n",
      "split_4_BOS3_large: 1.0201\n",
      "split_8_BOS3_large: 1.0391\n",
      "split_12_BOS3_large: 1.0564\n",
      "baseline_large: 3.1875\n"
     ]
    }
   ],
   "source": [
    "for eval_name in BEST_EVALS:\n",
    "    loss = losses[eval_name]\n",
    "    print(f'{eval_name}: {np.mean(loss[:, 0] / np.nanmin(loss, axis=-1)):.04f}')"
   ]
  },
  {
   "cell_type": "code",
   "execution_count": 10,
   "id": "5fc9409b-92c2-4c90-b7bf-ae9b3cf1c52a",
   "metadata": {},
   "outputs": [
    {
     "name": "stdout",
     "output_type": "stream",
     "text": [
      "split_4_BOS3_medium: 1.0090\n",
      "split_8_BOS3_medium: 1.0185\n",
      "split_12_BOS3_medium: 1.0221\n",
      "split_16_BOS3_medium: 1.0359\n",
      "split_20_BOS3_medium: 1.0531\n",
      "split_23_BOS3_medium: 1.1398\n",
      "baseline_medium: 1.1734\n",
      "split_4_BOS3_large: 1.0086\n",
      "split_8_BOS3_large: 1.0180\n",
      "split_12_BOS3_large: 1.0262\n",
      "baseline_large: 1.1410\n"
     ]
    }
   ],
   "source": [
    "for eval_name in BEST_EVALS:\n",
    "    loss = losses[eval_name]\n",
    "    print(f'{eval_name}: {np.median(loss[:, 0] / np.nanmin(loss, axis=-1)):.04f}')"
   ]
  },
  {
   "cell_type": "code",
   "execution_count": 11,
   "id": "34bd133c-dd1b-4401-b99b-cd9a72086329",
   "metadata": {},
   "outputs": [
    {
     "name": "stdout",
     "output_type": "stream",
     "text": [
      "split_4_BOS3_medium: 1.0103\n",
      "split_8_BOS3_medium: 1.0295\n",
      "split_12_BOS3_medium: 1.0455\n",
      "split_16_BOS3_medium: 1.0956\n",
      "split_20_BOS3_medium: 1.2868\n",
      "split_23_BOS3_medium: 2.7142\n",
      "baseline_medium: 4.8359\n",
      "split_4_BOS3_large: 1.0041\n",
      "split_8_BOS3_large: 1.0148\n",
      "split_12_BOS3_large: 1.0245\n",
      "baseline_large: 2.0095\n"
     ]
    }
   ],
   "source": [
    "for eval_name in BEST_EVALS:\n",
    "    loss = losses[eval_name]\n",
    "    print(f'{eval_name}: {np.mean(loss[:, 0] / np.nanquantile(loss, 0.1, axis=-1)):.04f}')"
   ]
  },
  {
   "cell_type": "markdown",
   "id": "a633c55c-f08f-47e6-86f3-ffdeba393486",
   "metadata": {},
   "source": [
    "## Optimal input size"
   ]
  },
  {
   "cell_type": "code",
   "execution_count": 13,
   "id": "38999ae0-b946-43f8-afa4-5ee7c197d210",
   "metadata": {},
   "outputs": [],
   "source": [
    "optim_num_files_medium = np.nanargmin(losses['baseline_medium'], axis=-1) + 1\n",
    "optim_num_files_large = np.nanargmin(losses['baseline_large'], axis=-1) + 1"
   ]
  },
  {
   "cell_type": "code",
   "execution_count": 14,
   "id": "5619f65e-487d-453e-883f-5fb04e73606b",
   "metadata": {},
   "outputs": [],
   "source": [
    "with jsonlines.open(NUM_TOKENS_MEDIUM) as reader:\n",
    "    cumnum_tokens_medium = [np.cumsum(dp['num_tokens']) for dp in reader]\n",
    "\n",
    "with jsonlines.open(NUM_TOKENS_LARGE) as reader:\n",
    "    cumnum_tokens_large = [np.cumsum(dp['num_tokens']) for dp in reader]"
   ]
  },
  {
   "cell_type": "code",
   "execution_count": 50,
   "id": "d235ccbf-dffe-4e88-bedc-eb2de689525b",
   "metadata": {},
   "outputs": [],
   "source": [
    "optim_num_files = np.concatenate([optim_num_files_medium, optim_num_files_large])\n",
    "cumnum_tokens = cumnum_tokens_medium + cumnum_tokens_large\n",
    "dataset_used = [('medium', 'large')[i >= len(optim_num_files_medium)] for i in range(len(optim_num_files))]"
   ]
  },
  {
   "cell_type": "code",
   "execution_count": 51,
   "id": "b6a7a601-1b06-4cd2-929a-bd6eaf10ed5d",
   "metadata": {},
   "outputs": [],
   "source": [
    "optim_num_tokens = np.array([num_tokens[file_idx - 1] for file_idx, num_tokens in zip(optim_num_files, cumnum_tokens)])"
   ]
  },
  {
   "cell_type": "code",
   "execution_count": 56,
   "id": "a4301b35-eb88-494f-ae16-138ba76cfe1e",
   "metadata": {},
   "outputs": [],
   "source": [
    "joint = sns.jointplot(\n",
    "    x=optim_num_tokens,\n",
    "    y=optim_num_files,\n",
    "    alpha=0,\n",
    "    height=8,\n",
    "    marginal_kws=dict(bins=50))\n",
    "scatter = sns.scatterplot(\n",
    "    x=optim_num_tokens,\n",
    "    y=optim_num_files,\n",
    "    hue=dataset_used,\n",
    "    size=np.concatenate([\n",
    "        np.nanmin(losses['baseline_medium'], axis=-1), \n",
    "        np.nanmin(losses['baseline_large'], axis=-1),\n",
    "    ]),\n",
    "    alpha=0.7,\n",
    "    edgecolor='black',\n",
    "    ax=joint.ax_joint,\n",
    ")\n",
    "\n",
    "joint.fig.suptitle('Optimal input size distribution')\n",
    "joint.ax_joint.set_xlabel('Optimal number of tokens')\n",
    "joint.ax_joint.set_ylabel('Optimal number of files')\n",
    "\n",
    "joint.ax_joint.set_xlim(left=0)\n",
    "joint.ax_joint.set_ylim(bottom=0)\n",
    "joint.ax_joint.grid(axis='x', color='black', alpha=0.125, linewidth=.5)\n",
    "joint.ax_joint.grid(axis='y', color='black', alpha=0.125, linewidth=.5)\n",
    "\n",
    "scatter.legend_.remove()\n",
    "handles, labels = scatter.get_legend_handles_labels()\n",
    "hue_legend = joint.ax_joint.legend(handles[:2], labels[:2], title=\"Dataset\", loc=\"upper left\", bbox_to_anchor=(0.125, 1))\n",
    "size_legend = joint.ax_joint.legend(handles[2:], labels[2:], title=\"CE Value\", loc=\"upper left\")\n",
    "joint.ax_joint.add_artist(hue_legend)\n",
    "\n",
    "path = os.path.join(VIZ_DIR, f'optimal_input_size_distribution.png')\n",
    "joint.fig.savefig(path, bbox_inches='tight')\n",
    "plt.close(joint.fig)"
   ]
  },
  {
   "cell_type": "markdown",
   "id": "ca744a69-f963-4ee4-85d9-95de774e7627",
   "metadata": {},
   "source": [
    "## OOM"
   ]
  },
  {
   "cell_type": "code",
   "execution_count": null,
   "id": "e840cacc-4c95-4309-9ca5-43bdd1c424a9",
   "metadata": {},
   "outputs": [],
   "source": [
    "# TODO\n",
    "\n",
    "fig, ax = plt.subplots(figsize=(8, 8))\n",
    "ax.set_title('Generator OOM proportion')\n",
    "ax.set_xlabel('Split')\n",
    "ax.set_ylabel('OOM occurrence')\n",
    "ax.spines['right'].set_visible(False)\n",
    "ax.spines['top'].set_visible(False)\n",
    "\n",
    "_ = sns.barplot({\n",
    "    f'split_{i}': (summary.OOM == 'generator').mean()\n",
    "    for i, summary in enumerate([summary_4, summary_8])\n",
    "})"
   ]
  },
  {
   "cell_type": "code",
   "execution_count": null,
   "id": "dd747529-9153-45d3-a787-b6bafdd645d9",
   "metadata": {},
   "outputs": [],
   "source": []
  },
  {
   "cell_type": "code",
   "execution_count": null,
   "id": "27e7bb43-8abf-419c-8bb9-3895f03a3efd",
   "metadata": {},
   "outputs": [],
   "source": []
  },
  {
   "cell_type": "code",
   "execution_count": null,
   "id": "c4882e30-9b0b-4263-8378-fc69346bd0b2",
   "metadata": {},
   "outputs": [],
   "source": []
  },
  {
   "cell_type": "code",
   "execution_count": null,
   "id": "ff1dfeec-4157-4dfd-b479-f9c4d1d787d2",
   "metadata": {},
   "outputs": [],
   "source": []
  }
 ],
 "metadata": {
  "kernelspec": {
   "display_name": "Python 3 (ipykernel)",
   "language": "python",
   "name": "python3"
  },
  "language_info": {
   "codemirror_mode": {
    "name": "ipython",
    "version": 3
   },
   "file_extension": ".py",
   "mimetype": "text/x-python",
   "name": "python",
   "nbconvert_exporter": "python",
   "pygments_lexer": "ipython3",
   "version": "3.10.12"
  }
 },
 "nbformat": 4,
 "nbformat_minor": 5
}
