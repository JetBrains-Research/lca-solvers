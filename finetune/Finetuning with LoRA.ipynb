{
 "cells": [
  {
   "cell_type": "code",
   "execution_count": 1,
   "id": "29162485-f6f0-4f9f-b915-80849ced191c",
   "metadata": {},
   "outputs": [],
   "source": [
    "# !pip install peft"
   ]
  },
  {
   "cell_type": "code",
   "execution_count": 2,
   "id": "9057c461-e100-4837-bae4-f74ed8f404a9",
   "metadata": {},
   "outputs": [],
   "source": [
    "# !pip install matplotlib"
   ]
  },
  {
   "cell_type": "code",
   "execution_count": 3,
   "id": "2745822f-ccca-4d51-9106-a02f073caeb1",
   "metadata": {},
   "outputs": [],
   "source": [
    "# https://www.databricks.com/blog/efficient-fine-tuning-lora-guide-llms\n",
    "# https://anirbansen2709.medium.com/finetuning-llms-using-lora-77fb02cbbc48\n",
    "# https://github.com/microsoft/LoRA/tree/main/examples/NLG\n",
    "# https://github.com/huggingface/peft\n"
   ]
  },
  {
   "cell_type": "code",
   "execution_count": 1,
   "id": "24b80559-0c8d-4ac7-8947-6b879e7c3fc8",
   "metadata": {},
   "outputs": [],
   "source": [
    "import sys\n",
    "import gc\n",
    "import torch\n",
    "# sys.path.append('/home/blatova/lca-solvers/')\n",
    "# sys.path.append('/home/glu/lca-solvers/')\n",
    "\n",
    "from torch.utils.data import DataLoader\n",
    "from torch.optim import AdamW\n",
    "import math\n",
    "import torch.nn.functional as F\n",
    "from torch.nn import CrossEntropyLoss\n",
    "import re\n",
    "import string\n",
    "\n",
    "punctuation = string.punctuation\n",
    "punctuation += \"–—‘’“”…\"\n",
    "pattern = re.compile(r'^[a-zA-Z0-9\\s' + re.escape(punctuation) + r']*$')"
   ]
  },
  {
   "cell_type": "code",
   "execution_count": 2,
   "id": "a01f1fb0-2175-42d6-b74b-02a9fa310de1",
   "metadata": {},
   "outputs": [],
   "source": [
    "from tqdm.auto import tqdm"
   ]
  },
  {
   "cell_type": "code",
   "execution_count": 3,
   "id": "d4cfff21-0007-4244-9d06-a8c50fec872b",
   "metadata": {},
   "outputs": [],
   "source": [
    "import os\n",
    "\n",
    "proj_dir = os.path.abspath(os.path.join(os.getcwd(), os.pardir))\n",
    "sys.path.append(proj_dir)"
   ]
  },
  {
   "cell_type": "code",
   "execution_count": 4,
   "id": "ac198b1e-dcc4-4494-a3d7-7adb4ab8841c",
   "metadata": {},
   "outputs": [],
   "source": [
    "import random\n",
    "\n",
    "from transformers import AutoTokenizer, AutoModelForCausalLM\n",
    "\n",
    "from data_filters.repo_snapshot_filter_stack import SnapshotFilterStack\n",
    "from data_classes.datapoint_composed import DatapointComposed\n",
    "from data_loading.raw_train_dataset_loading import DataLoaderTrainRaw\n",
    "from data_loading.composer_train_dataset_loading import DataLoaderTrainComposed\n",
    "from context_composers.context_composer_path_distance import ContextComposerPathDistance\n",
    "from data_classes.datapoint_composed import DatapointComposed\n",
    "from datasets import load_dataset\n",
    "from peft import get_peft_config, get_peft_model, LoraConfig, TaskType\n",
    "from torch.utils.data import Dataset, DataLoader\n",
    "\n",
    "# NUM_FILES=250\n",
    "\n",
    "# class ContextComposerTestLength(ContextComposerBase):\n",
    "#     def __init__(self):\n",
    "#         super().__init__()\n",
    "#         pass\n",
    "\n",
    "#     def compose_context(self, datapoint: DatapointBase, num_files=2) -> str:\n",
    "#         relevant_context = datapoint.get_relevant_context()\n",
    "#         non_relevant_context = datapoint.get_non_relevant_context()\n",
    "#         context =\"\"\n",
    "#         for i in range(num_files):\n",
    "#             filename = random.choice(list(relevant_context))\n",
    "#             content= relevant_context[filename]\n",
    "#             context=context+f\"# {filename}\\n\\n{content}\\n\\n\"\n",
    "#         return context"
   ]
  },
  {
   "cell_type": "code",
   "execution_count": 5,
   "id": "896c8b75-cc0b-4f4f-94a9-da04eba6681f",
   "metadata": {},
   "outputs": [
    {
     "name": "stdout",
     "output_type": "stream",
     "text": [
      "Wed May 15 22:12:46 2024       \n",
      "+---------------------------------------------------------------------------------------+\n",
      "| NVIDIA-SMI 535.113.01             Driver Version: 535.113.01   CUDA Version: 12.2     |\n",
      "|-----------------------------------------+----------------------+----------------------+\n",
      "| GPU  Name                 Persistence-M | Bus-Id        Disp.A | Volatile Uncorr. ECC |\n",
      "| Fan  Temp   Perf          Pwr:Usage/Cap |         Memory-Usage | GPU-Util  Compute M. |\n",
      "|                                         |                      |               MIG M. |\n",
      "|=========================================+======================+======================|\n",
      "|   0  NVIDIA GeForce RTX 4090        Off | 00000000:01:00.0 Off |                  Off |\n",
      "|  0%   29C    P8              12W / 450W |  21974MiB / 24564MiB |      0%      Default |\n",
      "|                                         |                      |                  N/A |\n",
      "+-----------------------------------------+----------------------+----------------------+\n",
      "|   1  NVIDIA GeForce RTX 4090        Off | 00000000:22:00.0 Off |                  Off |\n",
      "|  0%   30C    P8              16W / 450W |      6MiB / 24564MiB |      0%      Default |\n",
      "|                                         |                      |                  N/A |\n",
      "+-----------------------------------------+----------------------+----------------------+\n",
      "|   2  NVIDIA GeForce RTX 4090        Off | 00000000:41:00.0 Off |                  Off |\n",
      "|  0%   29C    P8              16W / 450W |      6MiB / 24564MiB |      0%      Default |\n",
      "|                                         |                      |                  N/A |\n",
      "+-----------------------------------------+----------------------+----------------------+\n",
      "|   3  NVIDIA GeForce RTX 4090        Off | 00000000:61:00.0 Off |                  Off |\n",
      "|  0%   29C    P8              14W / 450W |      6MiB / 24564MiB |      0%      Default |\n",
      "|                                         |                      |                  N/A |\n",
      "+-----------------------------------------+----------------------+----------------------+\n",
      "|   4  NVIDIA GeForce RTX 4090        Off | 00000000:81:00.0 Off |                  Off |\n",
      "|  0%   30C    P8              14W / 450W |      6MiB / 24564MiB |      0%      Default |\n",
      "|                                         |                      |                  N/A |\n",
      "+-----------------------------------------+----------------------+----------------------+\n",
      "|   5  NVIDIA GeForce RTX 4090        Off | 00000000:A1:00.0 Off |                  Off |\n",
      "|  0%   29C    P8              10W / 450W |      6MiB / 24564MiB |      0%      Default |\n",
      "|                                         |                      |                  N/A |\n",
      "+-----------------------------------------+----------------------+----------------------+\n",
      "|   6  NVIDIA GeForce RTX 4090        Off | 00000000:C1:00.0 Off |                  Off |\n",
      "|  0%   29C    P8              27W / 450W |  21112MiB / 24564MiB |      0%      Default |\n",
      "|                                         |                      |                  N/A |\n",
      "+-----------------------------------------+----------------------+----------------------+\n",
      "|   7  NVIDIA GeForce RTX 4090        Off | 00000000:E1:00.0 Off |                  Off |\n",
      "|  0%   29C    P8              18W / 450W |      6MiB / 24564MiB |      0%      Default |\n",
      "|                                         |                      |                  N/A |\n",
      "+-----------------------------------------+----------------------+----------------------+\n",
      "                                                                                         \n",
      "+---------------------------------------------------------------------------------------+\n",
      "| Processes:                                                                            |\n",
      "|  GPU   GI   CI        PID   Type   Process name                            GPU Memory |\n",
      "|        ID   ID                                                             Usage      |\n",
      "|=======================================================================================|\n",
      "|    0   N/A  N/A   1288532      C   /usr/bin/python3                          21964MiB |\n",
      "|    6   N/A  N/A   2776834      C   python                                    21094MiB |\n",
      "+---------------------------------------------------------------------------------------+\n"
     ]
    }
   ],
   "source": [
    "!nvidia-smi"
   ]
  },
  {
   "cell_type": "code",
   "execution_count": null,
   "id": "f89bb198-8b97-4cb9-a45b-6d5901dc2213",
   "metadata": {},
   "outputs": [],
   "source": []
  },
  {
   "cell_type": "code",
   "execution_count": 6,
   "id": "c2a3b1a4-2ac5-467f-a2a8-71cef0e3594b",
   "metadata": {},
   "outputs": [],
   "source": [
    "# !kill -9 1694536"
   ]
  },
  {
   "cell_type": "code",
   "execution_count": 7,
   "id": "3072f435-a05c-4b07-9a58-4c4756155e62",
   "metadata": {},
   "outputs": [
    {
     "name": "stderr",
     "output_type": "stream",
     "text": [
      "Special tokens have been added in the vocabulary, make sure the associated word embeddings are fine-tuned or trained.\n"
     ]
    }
   ],
   "source": [
    "# loader = DataLoader(cache_dir=\"/home/blatova/cache_dir\")\n",
    "# loader = DataLoaderTrainComposed(\n",
    "#         hf_path='JetBrains-Research/context-py-train',\n",
    "#         hf_config=None,\n",
    "#         cache_dir='/mnt/data2/shared-data/lca/hf_cache2/',\n",
    "#     )\n",
    "composer = ContextComposerPathDistance()\n",
    "tokenizer = AutoTokenizer.from_pretrained(\"deepseek-ai/deepseek-coder-1.3b-base\", trust_remote_code=True)\n",
    "model = AutoModelForCausalLM.from_pretrained(\"deepseek-ai/deepseek-coder-1.3b-base\", trust_remote_code=True, torch_dtype=torch.bfloat16).to(\"cuda:3\")"
   ]
  },
  {
   "cell_type": "markdown",
   "id": "93ca3d7c-3ffc-4f29-845a-827af87f3902",
   "metadata": {},
   "source": [
    "### Lora parameters\n",
    "\n",
    "https://medium.com/@manyi.yim/more-about-loraconfig-from-peft-581cf54643db\n",
    "\n",
    "https://magazine.sebastianraschka.com/p/practical-tips-for-finetuning-llms\n",
    "\n",
    "https://abvijaykumar.medium.com/fine-tuning-llm-parameter-efficient-fine-tuning-peft-lora-qlora-part-2-d8e23877ac6f\n",
    "\n",
    "AdaMix Lora: https://arxiv.org/pdf/2210.17451v1\n",
    "\n",
    "Lora-based mixture of experts: https://arxiv.org/pdf/2404.15159\n",
    "\n",
    "I believe the modules you've mentioned: gate_proj, down_proj, up_proj, q_proj, v_proj, k_proj, and o_proj, are all linear layers. So, they should be included in the list for LoRA finetuning to get the best results, that compare to full finetuning.\n",
    "\n",
    "This is based on the QLoRA paper: \"We find that the most critical LoRA hyperparameter is how many LoRA adapters are used in total and that LoRA on all linear transformer block layers is required to match full finetuning performance.\"\n",
    "\n",
    "To check which layers are linear, you can load the model with the transformers library in Python and then just print(model). The layers to look for will be labeled Linear or Linear4bit if you load the model in 4-bit. While I can't say this is the only way, it's how I've always done it.\n",
    "\n",
    "For QLoRA finetuning, I've used my own custom script, so I wrote a function that returns a list to simplify the \"finding layers to finetune\" process. However, keep in mind, this function will work properly only if the model is loaded in 4-bit using the transformers library:\n",
    "\n",
    "```def find_target_modules(model):\n",
    "    # Initialize a Set to Store Unique Layers\n",
    "    unique_layers = set()\n",
    "    \n",
    "    # Iterate Over All Named Modules in the Model\n",
    "    for name, module in model.named_modules():\n",
    "        # Check if the Module Type Contains 'Linear4bit'\n",
    "        if \"Linear4bit\" in str(type(module)):\n",
    "            # Extract the Type of the Layer\n",
    "            layer_type = name.split('.')[-1]\n",
    "            \n",
    "            # Add the Layer Type to the Set of Unique Layers\n",
    "            unique_layers.add(layer_type)\n",
    "\n",
    "    # Return the Set of Unique Layers Converted to a List\n",
    "    return list(unique_layers)```\n",
    "From: https://www.reddit.com/r/LocalLLaMA/comments/15sgg4m/what_modules_should_i_target_when_training_using/\n",
    "\n",
    "```import re\n",
    "model_modules = str(model.modules)\n",
    "pattern = r'\\((\\w+)\\): Linear'\n",
    "linear_layer_names = re.findall(pattern, model_modules)\n",
    "\n",
    "names = []\n",
    "# Print the names of the Linear layers\n",
    "for name in linear_layer_names:\n",
    "    names.append(name)\n",
    "target_modules = list(set(names))```\n",
    "\n",
    "\n",
    "Better result about layers and parameters fine-tuning:\n",
    "\n",
    "https://www.databricks.com/blog/efficient-fine-tuning-lora-guide-llms : All linear layers\n",
    "\n",
    "***Other parameters:***\n",
    "\n",
    "***Optimizer: Commonly used AdamW***\n",
    "\n",
    "r=16 => alpha = 16 (That’s why the authors set α to the first r and do not tune it. The default of α is 8.)\n",
    "\n",
    "***r=32 => alpha = 32***\n",
    "\n",
    "Dropout rate: \n",
    "\n",
    "https://ar5iv.labs.arxiv.org/html/2403.00812\n",
    "\n",
    "https://arxiv.org/pdf/2403.00812\n",
    "\n",
    "https://arxiv.org/pdf/2404.09610\n",
    "\n",
    "Hence, we only introduce the dropping in the latter half of layers in decoder-only models and the apparent performance improvement emerges again.\n",
    "\n",
    "***Dropout rate: Start without dropout? Usually used 0.1 ***\n",
    "\n",
    "bias: ???\n",
    "\n",
    "\n"
   ]
  },
  {
   "cell_type": "code",
   "execution_count": 8,
   "id": "c972d79f-9980-435e-9519-3424c29dfc2f",
   "metadata": {},
   "outputs": [
    {
     "name": "stdout",
     "output_type": "stream",
     "text": [
      "trainable params: 29,982,720 || all params: 1,376,454,656 || trainable%: 2.178257007545042\n"
     ]
    }
   ],
   "source": [
    "# ds = load_dataset('JetBrains-Research/context-py-train', 'path_distance_relevant', cache_dir = '/mnt/data2/shared-data/lca/hf_cache2/')\n",
    "peft_config = LoraConfig(\n",
    "    task_type=TaskType.CAUSAL_LM, inference_mode=False, r=32, lora_alpha=32, lora_dropout=0.1, \n",
    "    target_modules='all-linear'\n",
    ")\n",
    "\n",
    "model_lora = get_peft_model(model, peft_config)\n",
    "model_lora.print_trainable_parameters()\n"
   ]
  },
  {
   "cell_type": "code",
   "execution_count": 9,
   "id": "5020b0e7-9a11-4402-8465-d96ec710a2b5",
   "metadata": {},
   "outputs": [
    {
     "name": "stdout",
     "output_type": "stream",
     "text": [
      "base_model.model.model.embed_tokens.weight False--->True\n",
      "base_model.model.model.norm.weight False--->True\n",
      "base_model.model.lm_head.weight False--->True\n"
     ]
    }
   ],
   "source": [
    "for n, p in model_lora.named_parameters():\n",
    "    if '.embed_tokens.' in n or '.norm' in n or 'lm_head' in n: # or 'layernorm' in n or 'layers.22' in n:\n",
    "        print(n, p.requires_grad, end='--->')\n",
    "        p.requires_grad_(requires_grad=True)\n",
    "        print(p.requires_grad)"
   ]
  },
  {
   "cell_type": "code",
   "execution_count": 10,
   "id": "97eeb3b4-a2b1-4c7b-8744-418fb1428ea6",
   "metadata": {},
   "outputs": [
    {
     "ename": "AttributeError",
     "evalue": "'LlamaForCausalLM' object has no attribute 'print_trainable_parameters'",
     "output_type": "error",
     "traceback": [
      "\u001b[0;31m---------------------------------------------------------------------------\u001b[0m",
      "\u001b[0;31mAttributeError\u001b[0m                            Traceback (most recent call last)",
      "Cell \u001b[0;32mIn[10], line 1\u001b[0m\n\u001b[0;32m----> 1\u001b[0m \u001b[43mmodel_lora\u001b[49m\u001b[38;5;241;43m.\u001b[39;49m\u001b[43mprint_trainable_parameters\u001b[49m()\n",
      "File \u001b[0;32m~/lca-solvers/venv/lib/python3.11/site-packages/torch/nn/modules/module.py:1688\u001b[0m, in \u001b[0;36mModule.__getattr__\u001b[0;34m(self, name)\u001b[0m\n\u001b[1;32m   1686\u001b[0m     \u001b[38;5;28;01mif\u001b[39;00m name \u001b[38;5;129;01min\u001b[39;00m modules:\n\u001b[1;32m   1687\u001b[0m         \u001b[38;5;28;01mreturn\u001b[39;00m modules[name]\n\u001b[0;32m-> 1688\u001b[0m \u001b[38;5;28;01mraise\u001b[39;00m \u001b[38;5;167;01mAttributeError\u001b[39;00m(\u001b[38;5;124mf\u001b[39m\u001b[38;5;124m\"\u001b[39m\u001b[38;5;124m'\u001b[39m\u001b[38;5;132;01m{\u001b[39;00m\u001b[38;5;28mtype\u001b[39m(\u001b[38;5;28mself\u001b[39m)\u001b[38;5;241m.\u001b[39m\u001b[38;5;18m__name__\u001b[39m\u001b[38;5;132;01m}\u001b[39;00m\u001b[38;5;124m'\u001b[39m\u001b[38;5;124m object has no attribute \u001b[39m\u001b[38;5;124m'\u001b[39m\u001b[38;5;132;01m{\u001b[39;00mname\u001b[38;5;132;01m}\u001b[39;00m\u001b[38;5;124m'\u001b[39m\u001b[38;5;124m\"\u001b[39m)\n",
      "\u001b[0;31mAttributeError\u001b[0m: 'LlamaForCausalLM' object has no attribute 'print_trainable_parameters'"
     ]
    }
   ],
   "source": [
    "model_lora.print_trainable_parameters()"
   ]
  },
  {
   "cell_type": "code",
   "execution_count": 8,
   "id": "d446b349-0a02-4949-ba77-28ed6fb172e0",
   "metadata": {},
   "outputs": [],
   "source": [
    "#6000 tokens => OOM\n",
    "ACCUM_STEPS_NUM = 64\n",
    "CONTEXT_MAX_LEN_CHARS = 32000\n",
    "CONTEXT_MAX_LEN_TOKENS = 12000"
   ]
  },
  {
   "cell_type": "code",
   "execution_count": 9,
   "id": "dcc37a23-43ea-42bd-8770-6d2d45b2cc26",
   "metadata": {},
   "outputs": [],
   "source": [
    "criterion = CrossEntropyLoss()\n",
    "optimizer = AdamW(model_lora.parameters(), lr=5e-5)"
   ]
  },
  {
   "cell_type": "code",
   "execution_count": null,
   "id": "46d9bf84-caef-40f8-9ccd-1e34a4e42075",
   "metadata": {},
   "outputs": [],
   "source": []
  },
  {
   "cell_type": "code",
   "execution_count": 13,
   "id": "baa75d69-7364-439a-9eae-d1f4a0bd3501",
   "metadata": {},
   "outputs": [],
   "source": [
    "def forget_lines(text, prob=0.5, seed=27):\n",
    "    rand = random.Random()\n",
    "    rand.seed(seed)\n",
    "    first_line = text.split('\\n')[0]\n",
    "    last_line = text.split('\\n')[-1]\n",
    "    text_after_forget = '\\n'.join([line for line in text.split('\\n')[1:-1] if rand.random()>prob])\n",
    "    return first_line + text_after_forget + last_line"
   ]
  },
  {
   "cell_type": "code",
   "execution_count": 14,
   "id": "7b2b1067-86b3-494c-befc-cfcb08458579",
   "metadata": {},
   "outputs": [
    {
     "name": "stdout",
     "output_type": "stream",
     "text": [
      "yrte\n",
      "oirt \n",
      "12\n",
      "3\n",
      "4\n"
     ]
    }
   ],
   "source": [
    "text = '''\n",
    "yrte\n",
    "oirt \n",
    "iuyter\n",
    "\n",
    "12\n",
    "3\n",
    "4\n",
    "\n",
    "'''\n",
    "\n",
    "print(forget_lines(text, seed=-2))\n",
    "# print(text.split(''))"
   ]
  },
  {
   "cell_type": "code",
   "execution_count": 11,
   "id": "9946cc54-0eda-484d-82f1-c4b1fec0e205",
   "metadata": {},
   "outputs": [],
   "source": [
    "def compose_input_sequence(dp: DatapointComposed, max_len_tokens: int, tokenizer, context_ratio: float = 0.75, \n",
    "                           cut_context=True, ctxt_forg_prob=-1.) -> str:\n",
    "    #here we will probably get a little bit less than a real number of tokens\n",
    "    approx_max_len_chars = max_len_tokens * 3\n",
    "    \n",
    "    if not -1e8 < context_ratio < 1. + 1e8:\n",
    "        raise ValueError('context_ratio must be between 0 and 1')\n",
    "\n",
    "    context = dp.context[0]\n",
    "    completion = dp.completion[0]\n",
    "    context = '\\n'.join([line for line in context.split('\\n') if re.match(pattern, line)])\n",
    "    completion = '\\n'.join([line for line in completion.split('\\n') if re.match(pattern, line)])\n",
    "\n",
    "    context = forget_lines(context, prob=ctxt_forg_prob, seed=len(context))\n",
    "\n",
    "    length_context = int(approx_max_len_chars * context_ratio) + 1\n",
    "    length_completion = int(approx_max_len_chars * (1 - context_ratio)) + 1\n",
    "\n",
    "    compl_trim_idx = completion.rfind('\\n', 0, length_completion)\n",
    "    context_trim_idx = context.find('\\n', len(context)-length_context, len(context))\n",
    "\n",
    "    if compl_trim_idx > 0:\n",
    "        # print(\"First cut of completion\")\n",
    "        completion_trimmed = completion[:compl_trim_idx]\n",
    "    else:\n",
    "        # print(\"Second cut of completion\")\n",
    "        completion_trimmed = completion[:length_completion]\n",
    "    if context_trim_idx > 0:\n",
    "        # print(\"First cut of context\")\n",
    "        context_trimmed = context[1+context_trim_idx:]\n",
    "    else:\n",
    "        # print(\"Second cut of context\")\n",
    "        context_trimmed = context[-length_context:]\n",
    "    \n",
    "    context_len = tokenizer(context_trimmed, return_tensors=\"pt\")['input_ids'].shape[1]\n",
    "    completion_len = tokenizer(completion_trimmed, return_tensors=\"pt\")['input_ids'].shape[1]\n",
    "    res_input = tokenizer(context_trimmed + completion_trimmed, return_tensors=\"pt\")\n",
    "    \n",
    "    if completion_len>=length_completion:\n",
    "        # print(f\"Very strange output: completion_len>=length_completion: {completion_len}>={length_completion}. Skipping\")\n",
    "        # print(completion_trimmed)\n",
    "        return None, None, None\n",
    "    if context_len>=length_context:\n",
    "        # print(f\"Very strange output: context_len>=length_context: {context_len}>={length_context}. Skipping\")\n",
    "        # print(completion_trimmed)\n",
    "        return None, None, None\n",
    "    if 2*completion_len>=length_completion:\n",
    "        pass\n",
    "        # print(f\"Look here: 2*completion_len>=length_completion: 2*{completion_len}>={length_completion}. Not skipping\")\n",
    "        # print(completion_trimmed)\n",
    "    if 2*context_len>=length_context:\n",
    "        pass\n",
    "        # print(f\"Look here: 2*context_len>=length_context: 2*{context_len}>={length_context}. Not skipping\")\n",
    "        # print(completion_trimmed)\n",
    "    \n",
    "        \n",
    "    # print(f\"context_len: {context_len}, completion_len: {completion_len}\")\n",
    "    # # if completion_len>1000:\n",
    "    #     # print(completion_trimmed)\n",
    "    # print(f\"length_context:{length_context}, length_completion:{length_completion}, len(context_trimmed): {len(context_trimmed)}, len(completion_trimmed): {len(completion_trimmed)}\")\n",
    "    # print(f\"context_trim_idx:{context_trim_idx}, len(context): {len(context)}, compl_trim_idx:{compl_trim_idx}, len(completion): {len(completion)}\")\n",
    "    if len(completion_trimmed)<completion_len:\n",
    "        print(completion_trimmed)\n",
    "    diff_tokens = 0\n",
    "   \n",
    "    if (context_len+completion_len > max_len_tokens):\n",
    "        diff_tokens = context_len+completion_len - max_len_tokens\n",
    "        if cut_context:\n",
    "            res_input['input_ids'] =res_input['input_ids'][:, diff_tokens:]\n",
    "            res_input['attention_mask'] =res_input['attention_mask'][:,diff_tokens:]\n",
    "            context_len = context_len - diff_tokens\n",
    "        else:\n",
    "            res_input['input_ids'] =res_input['input_ids'][:, :-diff_tokens]\n",
    "            res_input['attention_mask'] =res_input['attention_mask'][:,:-diff_tokens]\n",
    "            completion_len = completion_len - diff_tokens\n",
    "            \n",
    "    \n",
    "    return res_input, context_len, completion_len\n",
    "\n"
   ]
  },
  {
   "cell_type": "markdown",
   "id": "81289799-1622-4ae7-bcb4-efbe6be0acfe",
   "metadata": {},
   "source": [
    "First cut of completion\n",
    "First cut of context\n",
    "context_len: 1222, completion_len: \n",
    "length_context:4501, length_completion:1501, len(context_trimmed): 4474, len(completion_trimmed): 1469\n",
    "context_trim_idx:995525, len(context): 1000000, compl_trim_idx:1469, len(completion): 20843"
   ]
  },
  {
   "cell_type": "code",
   "execution_count": 12,
   "id": "4810549b-4dd8-42bf-bdb5-24ccd9209540",
   "metadata": {},
   "outputs": [],
   "source": [
    "import matplotlib.pyplot as plt\n",
    "from IPython.display import display, clear_output\n",
    "\n",
    "\n",
    "def live_plot(data1, data2, valdata1, valdata2, figsize=(10, 10), title1='Loss on whole sequence', title2='Loss on completion'):\n",
    "    clear_output(wait=True)\n",
    "    fig, (ax1, ax2) = plt.subplots(2, 1, figsize=figsize)  # Creates 2 subplots vertically aligned\n",
    "    \n",
    "    # Plotting data1 on the first subplot\n",
    "    ax1.plot(data1, marker='o')\n",
    "    ax1.plot(valdata1, marker='_')\n",
    "    ax1.set_title(title1)\n",
    "    ax1.set_xlabel('Iteration')\n",
    "    ax1.set_ylabel('Loss')\n",
    "    ax1.grid(True)\n",
    "\n",
    "    # Plotting data2 on the second subplot\n",
    "    ax2.plot(data2, marker='o')\n",
    "    ax2.plot(valdata2, marker='_')\n",
    "    ax2.set_title(title2)\n",
    "    ax2.set_xlabel('Iteration')\n",
    "    ax2.set_ylabel('Loss')\n",
    "    ax2.grid(True)\n",
    "\n",
    "    plt.tight_layout()\n",
    "    plt.show()"
   ]
  },
  {
   "cell_type": "code",
   "execution_count": 13,
   "id": "9c0e164e-9b77-4983-acbd-033ee630cdc5",
   "metadata": {},
   "outputs": [],
   "source": [
    " # hf_path='JetBrains-Research/context-py-train',\n",
    "#         hf_config=None,\n",
    "#         cache_dir='/mnt/data2/shared-data/lca/hf_cache2/'"
   ]
  },
  {
   "cell_type": "code",
   "execution_count": 14,
   "id": "ba026639-d5bb-405c-b3f1-406c535dbc27",
   "metadata": {},
   "outputs": [
    {
     "data": {
      "application/vnd.jupyter.widget-view+json": {
       "model_id": "ac29b1da87a94e8e9ead3847a3b1bb77",
       "version_major": 2,
       "version_minor": 0
      },
      "text/plain": [
       "Resolving data files:   0%|          | 0/124 [00:00<?, ?it/s]"
      ]
     },
     "metadata": {},
     "output_type": "display_data"
    },
    {
     "data": {
      "application/vnd.jupyter.widget-view+json": {
       "model_id": "8fd9fea2f6a94cbfb4010cf5e6c8da52",
       "version_major": 2,
       "version_minor": 0
      },
      "text/plain": [
       "Resolving data files:   0%|          | 0/124 [00:00<?, ?it/s]"
      ]
     },
     "metadata": {},
     "output_type": "display_data"
    },
    {
     "data": {
      "application/vnd.jupyter.widget-view+json": {
       "model_id": "cff42161b6354049a6dbcccf6dbfb5b8",
       "version_major": 2,
       "version_minor": 0
      },
      "text/plain": [
       "Loading dataset shards:   0%|          | 0/17 [00:00<?, ?it/s]"
      ]
     },
     "metadata": {},
     "output_type": "display_data"
    }
   ],
   "source": [
    "dataset = load_dataset(\"JetBrains-Research/context-py-train\", \"path_distance_relevant\", cache_dir='/mnt/data2/shared-data/lca/hf_cache/')"
   ]
  },
  {
   "cell_type": "code",
   "execution_count": 15,
   "id": "a4920c29-beba-4861-bb1c-ee76f1b29aac",
   "metadata": {},
   "outputs": [],
   "source": [
    "rng = random.Random()\n",
    "rng.seed(111)\n",
    "\n",
    "val_repos = rng.sample(list(set(dataset['train']['repo'])), 48)"
   ]
  },
  {
   "cell_type": "code",
   "execution_count": 16,
   "id": "e44cf1a9-4171-4042-838a-33423013f1d8",
   "metadata": {},
   "outputs": [
    {
     "data": {
      "application/vnd.jupyter.widget-view+json": {
       "model_id": "2bfb14fad91d46ffa52b4d60a724b8a0",
       "version_major": 2,
       "version_minor": 0
      },
      "text/plain": [
       "Filter:   0%|          | 0/13799 [00:00<?, ? examples/s]"
      ]
     },
     "metadata": {},
     "output_type": "display_data"
    },
    {
     "data": {
      "application/vnd.jupyter.widget-view+json": {
       "model_id": "0ad4d9c20c124564bcf4663ff3f2594f",
       "version_major": 2,
       "version_minor": 0
      },
      "text/plain": [
       "Filter:   0%|          | 0/13799 [00:00<?, ? examples/s]"
      ]
     },
     "metadata": {},
     "output_type": "display_data"
    },
    {
     "name": "stdout",
     "output_type": "stream",
     "text": [
      "12882 128\n"
     ]
    }
   ],
   "source": [
    "class HFDataset(Dataset):\n",
    "    def __init__(self, hf_dataset):\n",
    "        self.hf_dataset = hf_dataset['train']\n",
    "    \n",
    "    def __len__(self):\n",
    "        return len(self.hf_dataset)\n",
    "    \n",
    "    def __getitem__(self, idx):\n",
    "        return self.hf_dataset[idx]\n",
    "\n",
    "class HFDatasetVal(Dataset):\n",
    "    def __init__(self, hf_dataset):\n",
    "        self.hf_dataset = hf_dataset['test']\n",
    "    \n",
    "    def __len__(self):\n",
    "        return len(self.hf_dataset)\n",
    "    \n",
    "    def __getitem__(self, idx):\n",
    "        return self.hf_dataset[idx]\n",
    "\n",
    "\n",
    "\n",
    "train_dataset = dataset.filter(lambda ex: not any([ex['repo']==vp for vp in val_repos]))\n",
    "val_dataset = dataset.filter(lambda ex: any([ex['repo']==vp for vp in val_repos]))['train'].train_test_split(test_size=128, seed=111)\n",
    "# dataset = load_dataset('JetBrains-Research/context-py-train', cache_dir='/mnt/data2/shared-data/lca/hf_cache2/')\n",
    "torch_dataset = HFDataset(train_dataset)\n",
    "val_torch_dataset = HFDatasetVal(val_dataset)\n",
    "loader = DataLoader(torch_dataset, batch_size=1, shuffle=True)\n",
    "val_loader = DataLoader(val_torch_dataset, batch_size=1,)\n",
    "\n",
    "print(len(loader), len(val_loader))"
   ]
  },
  {
   "cell_type": "code",
   "execution_count": null,
   "id": "79710af1-dff5-4ab5-83f5-c03512d436a8",
   "metadata": {},
   "outputs": [],
   "source": []
  },
  {
   "cell_type": "code",
   "execution_count": 17,
   "id": "c769dca5-399a-4385-82ed-12dbf884d466",
   "metadata": {},
   "outputs": [
    {
     "data": {
      "text/plain": [
       "(DatasetDict({\n",
       "     train: Dataset({\n",
       "         features: ['repo', 'commit_hash', 'context', 'completion_file', 'context_strategy'],\n",
       "         num_rows: 13799\n",
       "     })\n",
       " }),\n",
       " DatasetDict({\n",
       "     train: Dataset({\n",
       "         features: ['repo', 'commit_hash', 'context', 'completion_file', 'context_strategy'],\n",
       "         num_rows: 12882\n",
       "     })\n",
       " }),\n",
       " DatasetDict({\n",
       "     train: Dataset({\n",
       "         features: ['repo', 'commit_hash', 'context', 'completion_file', 'context_strategy'],\n",
       "         num_rows: 789\n",
       "     })\n",
       "     test: Dataset({\n",
       "         features: ['repo', 'commit_hash', 'context', 'completion_file', 'context_strategy'],\n",
       "         num_rows: 128\n",
       "     })\n",
       " }))"
      ]
     },
     "execution_count": 17,
     "metadata": {},
     "output_type": "execute_result"
    }
   ],
   "source": [
    "dataset, train_dataset, val_dataset"
   ]
  },
  {
   "cell_type": "code",
   "execution_count": 18,
   "id": "a5c7b763-e93e-4f7f-8436-58e373629f4d",
   "metadata": {},
   "outputs": [],
   "source": [
    "def ema_smoothing(values, alpha=0.05):\n",
    "    \"\"\"\n",
    "    Calculate the exponential moving average of a list of values using a specified alpha.\n",
    "\n",
    "    :param values: List of float, the data points to smooth.\n",
    "    :param alpha: Float, the smoothing factor, often calculated as 2 / (period + 1).\n",
    "    :return: List of float, the smoothed data points.\n",
    "    \"\"\"\n",
    "    ema = [values[0]]  # Start the EMA with the first value in the list\n",
    "    for value in values[1:]:\n",
    "        ema.append(ema[-1] * (1 - alpha) + value * alpha)\n",
    "    return ema"
   ]
  },
  {
   "cell_type": "code",
   "execution_count": 17,
   "id": "c3603aa9-46f0-438b-a938-3a36119ae8e4",
   "metadata": {},
   "outputs": [
    {
     "ename": "NameError",
     "evalue": "name 'model' is not defined",
     "output_type": "error",
     "traceback": [
      "\u001b[0;31m---------------------------------------------------------------------------\u001b[0m",
      "\u001b[0;31mNameError\u001b[0m                                 Traceback (most recent call last)",
      "Cell \u001b[0;32mIn[17], line 1\u001b[0m\n\u001b[0;32m----> 1\u001b[0m \u001b[43mmodel\u001b[49m\u001b[38;5;241m.\u001b[39mdevice\n",
      "\u001b[0;31mNameError\u001b[0m: name 'model' is not defined"
     ]
    }
   ],
   "source": [
    "model.device"
   ]
  },
  {
   "cell_type": "code",
   "execution_count": 19,
   "id": "c0f6a46a-1042-4603-933b-43217826f712",
   "metadata": {},
   "outputs": [],
   "source": [
    "def get_outputs(input_ids, context_len, completion_len, model, val=False, token_factor=2):\n",
    "    # ctxt_input_ids = input_ids[..., :completion_len]\n",
    "    try:\n",
    "        embeds = model.model.embed_tokens(input_ids.to(model.device))\n",
    "    except AttributeError:\n",
    "        embeds = model.base_model.model.model.embed_tokens(input_ids.to(model.device))\n",
    "    context_embeds = embeds[..., :context_len, :]\n",
    "    completion_embeds = embeds[..., context_len:, :]\n",
    "    if context_embeds.shape[-2] % token_factor != 0:\n",
    "        \n",
    "        extra_tokens = token_factor - context_embeds.shape[-2] % token_factor\n",
    "        # print(context_embeds.shape[-2], extra_tokens, end=' | ')\n",
    "        padding_tensor = torch.zeros_like(context_embeds[..., :extra_tokens, :]).detach()\n",
    "        context_embeds = torch.cat((padding_tensor, context_embeds), dim=-2)\n",
    "    new_shape = (context_embeds.shape[0], context_embeds.shape[1] // token_factor, token_factor, context_embeds.shape[2])\n",
    "    # print(context_embeds.shape[1] // token_factor, context_embeds.shape[1] % token_factor)\n",
    "    paired_context_embeds = context_embeds.view(new_shape).sum(dim=-2) / token_factor\n",
    "\n",
    "    new_embeds = torch.cat((paired_context_embeds, completion_embeds), dim=-2)\n",
    "    # print(embeds.shape, '---->', new_embeds.shape)\n",
    "    outputs = model(inputs_embeds=new_embeds)\n",
    "    if val:\n",
    "        return outputs, model(input_ids[:, -((token_factor-1) * context_len + 1):])\n",
    "    return outputs\n",
    "    "
   ]
  },
  {
   "cell_type": "code",
   "execution_count": null,
   "id": "b1e40cf4-9caf-430f-bef8-808e6136b49f",
   "metadata": {},
   "outputs": [],
   "source": []
  },
  {
   "cell_type": "code",
   "execution_count": 25,
   "id": "a33c2e96-3bbd-4f69-8442-7297e2039e33",
   "metadata": {},
   "outputs": [
    {
     "data": {
      "application/vnd.jupyter.widget-view+json": {
       "model_id": "6f85b34502f441b583c828c24b759cb8",
       "version_major": 2,
       "version_minor": 0
      },
      "text/plain": [
       "  0%|          | 0/128 [00:00<?, ?it/s]"
      ]
     },
     "metadata": {},
     "output_type": "display_data"
    }
   ],
   "source": [
    "seq_len = 2048\n",
    "context_ratio = 0.75\n",
    "true_completion_lens = list()\n",
    "for idx, hf_dp in enumerate(tqdm(val_loader)):\n",
    "    dp = DatapointComposed.from_hf_datapoint(hf_dp)\n",
    "    true_completion_lens.append(compose_input_sequence(dp, seq_len, tokenizer, context_ratio)[-1])"
   ]
  },
  {
   "cell_type": "code",
   "execution_count": 26,
   "id": "4f0c648f-4ea2-4ea4-b273-6eec19308154",
   "metadata": {},
   "outputs": [
    {
     "data": {
      "text/plain": [
       "431"
      ]
     },
     "execution_count": 26,
     "metadata": {},
     "output_type": "execute_result"
    }
   ],
   "source": [
    "true_completion_lens[-1]"
   ]
  },
  {
   "cell_type": "code",
   "execution_count": null,
   "id": "58138fc3-720a-455c-9ce5-3a4cdd077ca8",
   "metadata": {},
   "outputs": [],
   "source": []
  },
  {
   "cell_type": "code",
   "execution_count": 29,
   "id": "84e8c0fd-9e56-495c-9c9a-09ae8f2d19ed",
   "metadata": {},
   "outputs": [],
   "source": [
    "def get_val_loss(model, val_loader=val_loader, token_factor=1, true_completion_lens=None):\n",
    "    count = 0\n",
    "    curr_val_loss_whole_input = list()\n",
    "    curr_val_loss_completion = list()\n",
    "    with torch.no_grad():\n",
    "        for idx, hf_dp in enumerate(tqdm(val_loader)):\n",
    "            # if idx>20:\n",
    "            #     break\n",
    "            dp = DatapointComposed.from_hf_datapoint(hf_dp)\n",
    "            seq_len = 2048\n",
    "            context_ratio = 0.75\n",
    "            # true_completion_len = int(seq_len*(1-context_ratio))\n",
    "            inputs, context_len, completion_len = compose_input_sequence(dp, int(seq_len * (1 + (token_factor-1)*context_ratio)), tokenizer, context_ratio)\n",
    "            if inputs is None:\n",
    "                continue\n",
    "            input_ids = inputs['input_ids'].clone()\n",
    "            # if true_completion_lens is not None:\n",
    "            #     completion_len = true_completion_lens[idx]\n",
    "            \n",
    "            # inputs['input_ids'] = inputs['input_ids'][:, :(context_len + true_completion_len)] \n",
    "                # input_ids = input_ids[:, :(context_len + completion_len)]\n",
    "            count += 1\n",
    "            inputs = inputs.to(model_lora.device)\n",
    "            # outputs, t_outputs = get_outputs(inputs['input_ids'], context_len, completion_len, model, val=True)\n",
    "            # outputs = model.forward(**inputs)\n",
    "            outputs = get_outputs(input_ids, context_len, completion_len, model, token_factor=token_factor)\n",
    "        \n",
    "            logits_size = outputs['logits'].size(-1)\n",
    "            loss_completion = criterion(\n",
    "                outputs['logits'].view(-1, outputs['logits'].size(-1))[-completion_len:-1, :], \n",
    "                inputs['input_ids'].view(-1)[-completion_len+1:])\n",
    "            # t_logits_size = t_outputs['logits'].size(-1)\n",
    "            # t_loss_completion = criterion(t_outputs['logits'].view(-1, t_outputs['logits'].size(-1))[-completion_len:-1, :], inputs['input_ids'].view(-1)[-completion_len+1:])\n",
    "\n",
    "            \n",
    "            detached_logits = outputs['logits'].detach()\n",
    "            # if idx < 20:\n",
    "                # print(f'With pairing: {loss_completion.item():.4f}, Standard: {t_loss_completion.item():.4f}')\n",
    "            # for 0 output logit we have corresponding 1st input\n",
    "            loss_whole_input = loss_completion #criterion(detached_logits.view(-1, detached_logits.size(-1))[:-1, :], inputs['input_ids'].view(-1)[1:])\n",
    "            curr_val_loss_whole_input.append(loss_whole_input.item())\n",
    "            curr_val_loss_completion.append(loss_completion.item())\n",
    "    print(f'Token Factor: {token_factor}, Loss: {sum(curr_val_loss_completion) / len(curr_val_loss_completion) :.4f}, ',\n",
    "            f'input shape: {inputs[\"input_ids\"].shape}, output shape: {outputs.logits.shape}')\n",
    "\n",
    "    return sum(curr_val_loss_whole_input) / len(curr_val_loss_whole_input), sum(curr_val_loss_completion) / len(curr_val_loss_completion), count"
   ]
  },
  {
   "cell_type": "code",
   "execution_count": 30,
   "id": "ec2e4401-bb8d-4988-a715-a1937cffa45f",
   "metadata": {},
   "outputs": [
    {
     "data": {
      "application/vnd.jupyter.widget-view+json": {
       "model_id": "7f343d3736d148028ef68a3c3477a097",
       "version_major": 2,
       "version_minor": 0
      },
      "text/plain": [
       "  0%|          | 0/128 [00:00<?, ?it/s]"
      ]
     },
     "metadata": {},
     "output_type": "display_data"
    },
    {
     "name": "stdout",
     "output_type": "stream",
     "text": [
      "Token Factor: 4, Loss: 0.7351,  input shape: torch.Size([1, 5647]), output shape: torch.Size([1, 2472, 32256])\n"
     ]
    },
    {
     "data": {
      "application/vnd.jupyter.widget-view+json": {
       "model_id": "143678c9e76942adb466fbda45c8c3a2",
       "version_major": 2,
       "version_minor": 0
      },
      "text/plain": [
       "  0%|          | 0/128 [00:00<?, ?it/s]"
      ]
     },
     "metadata": {},
     "output_type": "display_data"
    },
    {
     "ename": "KeyboardInterrupt",
     "evalue": "",
     "output_type": "error",
     "traceback": [
      "\u001b[0;31m---------------------------------------------------------------------------\u001b[0m",
      "\u001b[0;31mKeyboardInterrupt\u001b[0m                         Traceback (most recent call last)",
      "Cell \u001b[0;32mIn[30], line 2\u001b[0m\n\u001b[1;32m      1\u001b[0m \u001b[38;5;28;01mfor\u001b[39;00m tf \u001b[38;5;129;01min\u001b[39;00m \u001b[38;5;28mrange\u001b[39m(\u001b[38;5;241m4\u001b[39m, \u001b[38;5;241m16\u001b[39m):\n\u001b[0;32m----> 2\u001b[0m     \u001b[43mget_val_loss\u001b[49m\u001b[43m(\u001b[49m\u001b[43mmodel_lora\u001b[49m\u001b[43m,\u001b[49m\u001b[43m \u001b[49m\u001b[43mtoken_factor\u001b[49m\u001b[38;5;241;43m=\u001b[39;49m\u001b[43mtf\u001b[49m\u001b[43m,\u001b[49m\u001b[43m \u001b[49m\u001b[43mtrue_completion_lens\u001b[49m\u001b[38;5;241;43m=\u001b[39;49m\u001b[43mtrue_completion_lens\u001b[49m\u001b[43m)\u001b[49m\n\u001b[1;32m      3\u001b[0m     \u001b[38;5;66;03m# print(f'Token Factor: {tf}, val_loss: {get_val_loss(model_lora, token_factor=tf)[0]:.4f}')\u001b[39;00m\n",
      "Cell \u001b[0;32mIn[29], line 41\u001b[0m, in \u001b[0;36mget_val_loss\u001b[0;34m(model, val_loader, token_factor, true_completion_lens)\u001b[0m\n\u001b[1;32m     37\u001b[0m         \u001b[38;5;66;03m# if idx < 20:\u001b[39;00m\n\u001b[1;32m     38\u001b[0m             \u001b[38;5;66;03m# print(f'With pairing: {loss_completion.item():.4f}, Standard: {t_loss_completion.item():.4f}')\u001b[39;00m\n\u001b[1;32m     39\u001b[0m         \u001b[38;5;66;03m# for 0 output logit we have corresponding 1st input\u001b[39;00m\n\u001b[1;32m     40\u001b[0m         loss_whole_input \u001b[38;5;241m=\u001b[39m loss_completion \u001b[38;5;66;03m#criterion(detached_logits.view(-1, detached_logits.size(-1))[:-1, :], inputs['input_ids'].view(-1)[1:])\u001b[39;00m\n\u001b[0;32m---> 41\u001b[0m         curr_val_loss_whole_input\u001b[38;5;241m.\u001b[39mappend(\u001b[43mloss_whole_input\u001b[49m\u001b[38;5;241;43m.\u001b[39;49m\u001b[43mitem\u001b[49m\u001b[43m(\u001b[49m\u001b[43m)\u001b[49m)\n\u001b[1;32m     42\u001b[0m         curr_val_loss_completion\u001b[38;5;241m.\u001b[39mappend(loss_completion\u001b[38;5;241m.\u001b[39mitem())\n\u001b[1;32m     43\u001b[0m \u001b[38;5;28mprint\u001b[39m(\u001b[38;5;124mf\u001b[39m\u001b[38;5;124m'\u001b[39m\u001b[38;5;124mToken Factor: \u001b[39m\u001b[38;5;132;01m{\u001b[39;00mtoken_factor\u001b[38;5;132;01m}\u001b[39;00m\u001b[38;5;124m, Loss: \u001b[39m\u001b[38;5;132;01m{\u001b[39;00m\u001b[38;5;28msum\u001b[39m(curr_val_loss_completion)\u001b[38;5;250m \u001b[39m\u001b[38;5;241m/\u001b[39m\u001b[38;5;250m \u001b[39m\u001b[38;5;28mlen\u001b[39m(curr_val_loss_completion)\u001b[38;5;250m \u001b[39m\u001b[38;5;132;01m:\u001b[39;00m\u001b[38;5;124m.4f\u001b[39m\u001b[38;5;132;01m}\u001b[39;00m\u001b[38;5;124m, \u001b[39m\u001b[38;5;124m'\u001b[39m,\n\u001b[1;32m     44\u001b[0m         \u001b[38;5;124mf\u001b[39m\u001b[38;5;124m'\u001b[39m\u001b[38;5;124minput shape: \u001b[39m\u001b[38;5;132;01m{\u001b[39;00minputs[\u001b[38;5;124m\"\u001b[39m\u001b[38;5;124minput_ids\u001b[39m\u001b[38;5;124m\"\u001b[39m]\u001b[38;5;241m.\u001b[39mshape\u001b[38;5;132;01m}\u001b[39;00m\u001b[38;5;124m, output shape: \u001b[39m\u001b[38;5;132;01m{\u001b[39;00moutputs\u001b[38;5;241m.\u001b[39mlogits\u001b[38;5;241m.\u001b[39mshape\u001b[38;5;132;01m}\u001b[39;00m\u001b[38;5;124m'\u001b[39m)\n",
      "\u001b[0;31mKeyboardInterrupt\u001b[0m: "
     ]
    }
   ],
   "source": [
    "for tf in range(4, 16):\n",
    "    get_val_loss(model_lora, token_factor=tf, true_completion_lens=true_completion_lens)\n",
    "    # print(f'Token Factor: {tf}, val_loss: {get_val_loss(model_lora, token_factor=tf)[0]:.4f}')"
   ]
  },
  {
   "cell_type": "code",
   "execution_count": 36,
   "id": "6802e913-7a6e-47ab-92c1-10f3bcbd2995",
   "metadata": {},
   "outputs": [
    {
     "data": {
      "application/vnd.jupyter.widget-view+json": {
       "model_id": "9786304a0fe747098d0257bdb10a0f08",
       "version_major": 2,
       "version_minor": 0
      },
      "text/plain": [
       "  0%|          | 0/128 [00:00<?, ?it/s]"
      ]
     },
     "metadata": {},
     "output_type": "display_data"
    },
    {
     "data": {
      "text/plain": [
       "(0.8074252358055674, 0.8074252358055674, 128)"
      ]
     },
     "execution_count": 36,
     "metadata": {},
     "output_type": "execute_result"
    }
   ],
   "source": [
    "get_val_loss(model_lora)"
   ]
  },
  {
   "cell_type": "code",
   "execution_count": null,
   "id": "55a3fe06-dc29-42ee-96e6-d449c398e329",
   "metadata": {},
   "outputs": [
    {
     "data": {
      "image/png": "[encoded data removed]",
      "text/plain": [
       "<Figure size 1000x1000 with 2 Axes>"
      ]
     },
     "metadata": {},
     "output_type": "display_data"
    },
    {
     "name": "stdout",
     "output_type": "stream",
     "text": [
      "Plotted: 11840 steps, Val Size is 128\n"
     ]
    }
   ],
   "source": [
    "torch.cuda.empty_cache()\n",
    "# total_whole_input_loss = 0\n",
    "# total_completion_loss = 0\n",
    "# total_tokens = 0\n",
    "# total_completion_tokens = 0\n",
    "# train_losses_whole_input = []\n",
    "# curr_train_loss_whole_input = []\n",
    "# train_losses_completion = []\n",
    "# curr_train_loss_completion = []\n",
    "\n",
    "# val_losses_whole_input = list()\n",
    "# val_losses_completion = list()\n",
    "\n",
    "\n",
    "ACCUM_STEPS_NUM = 64\n",
    "num_epochs = 2\n",
    "for ep in range(num_epochs):\n",
    "    loader = DataLoader(torch_dataset, batch_size=1, shuffle=True)\n",
    "    \n",
    "    new_loader = list()\n",
    "    for idx, hf_dp in enumerate(tqdm(loader)):\n",
    "        # torch.cuda.empty_cache()\n",
    "        # if idx > 20:\n",
    "        #     break\n",
    "        new_loader.append(hf_dp)\n",
    "        dp = DatapointComposed.from_hf_datapoint(hf_dp)\n",
    "        _is_oom = True\n",
    "        seq_len = 2048 # CONTEXT_MAX_LEN_TOKENS\n",
    "        context_ratio = 0.75\n",
    "    \n",
    "        while _is_oom:\n",
    "    \n",
    "            try:\n",
    "                inputs, context_len, completion_len = compose_input_sequence(dp, int(seq_len * (1 + context_ratio)), tokenizer, context_ratio)\n",
    "                if inputs is not None:\n",
    "                    assert abs(completion_len+context_len-inputs['input_ids'].shape[1])<2\n",
    "                    # full_len = inputs['input_ids'].shape[1]\n",
    "                    inputs = inputs.to(model_lora.device)\n",
    "                    outputs = get_outputs(inputs['input_ids'], context_len, completion_len, model_lora)\n",
    "                    # outputs = model_lora.forward(**inputs)\n",
    "                    # print(seq_len, \"OK\")\n",
    "                    _is_oom = False\n",
    "                    \n",
    "                else:\n",
    "                    continue\n",
    "            except torch.cuda.OutOfMemoryError as e:\n",
    "                # print(seq_len, \"OOM\", end=' | ')\n",
    "                seq_len = int(seq_len * 0.9)\n",
    "                # print(e)\n",
    "    \n",
    "        logits_size = outputs['logits'].size(-1)\n",
    "        loss_completion = criterion(outputs['logits'].view(-1, outputs['logits'].size(-1))[-completion_len:-1, :], inputs['input_ids'].view(-1)[-completion_len+1:])\n",
    "        # print(context_input_len)\n",
    "        # print(loss.item())\n",
    "        \n",
    "        (loss_completion).backward()\n",
    "        # print(loss_completion.item())\n",
    "        detached_logits = outputs['logits'].detach()\n",
    "        \n",
    "        # for 0 output logit we have corresponding 1st input\n",
    "        loss_whole_input = loss_completion #criterion(detached_logits.view(-1, detached_logits.size(-1))[:-1, :], inputs['input_ids'].view(-1)[1:])\n",
    "            \n",
    "        if (idx+1) % ACCUM_STEPS_NUM ==0:\n",
    "            train_losses_whole_input.append(sum(curr_train_loss_whole_input)/len(curr_train_loss_whole_input))\n",
    "            train_losses_completion.append(sum(curr_train_loss_completion)/len(curr_train_loss_completion))\n",
    "            curr_train_loss_whole_input = []\n",
    "            curr_train_loss_completion=[]\n",
    "            for param in model_lora.parameters():\n",
    "                if param.requires_grad:\n",
    "                    if param.grad is not None:\n",
    "                        param.grad /= ACCUM_STEPS_NUM\n",
    "            \n",
    "            optimizer.step()\n",
    "            optimizer.zero_grad()\n",
    "    \n",
    "        if (idx+1) % (ACCUM_STEPS_NUM*5) == 0:\n",
    "            curr_val_loss_whole, curr_val_loss_completion, val_count = get_val_loss(model_lora)\n",
    "            while len(val_losses_completion) < len(train_losses_completion):\n",
    "                val_losses_completion.append(curr_val_loss_completion)\n",
    "            while len(val_losses_whole_input) < len(train_losses_whole_input):\n",
    "                val_losses_whole_input.append(curr_val_loss_whole)\n",
    "            live_plot(\n",
    "                ema_smoothing(train_losses_whole_input), ema_smoothing(train_losses_completion),\n",
    "                val_losses_whole_input, val_losses_completion,\n",
    "            )\n",
    "            print(f\"Plotted: {(idx+1)} steps, Val Size is {val_count}\")\n",
    "            \n",
    "        \n",
    "        curr_train_loss_whole_input.append(loss_whole_input.item())\n",
    "        curr_train_loss_completion.append(loss_completion.item())\n",
    "        total_whole_input_loss += loss_whole_input.item() * (inputs['input_ids'].size(0)-1)  # Accumulate scaled loss\n",
    "        total_completion_loss += loss_completion.item() * (completion_len -1)  # Accumulate scaled loss\n",
    "        total_tokens += (inputs['input_ids']).size(-1) - 1  # Count tokens processed\n",
    "        total_completion_tokens += completion_len - 1\n",
    "        # TODO validation\n",
    "\n",
    "\n",
    "avg_loss = total_whole_input_loss / total_tokens\n",
    "perplexity = math.exp(avg_loss)  # Calculate perplexity as exp of the average loss\n",
    "\n",
    "avg_completion_loss = total_completion_loss / total_completion_tokens\n",
    "perplexity = math.exp(avg_completion_loss)\n",
    "\n",
    "\n",
    "\n",
    "\n",
    "    "
   ]
  },
  {
   "cell_type": "code",
   "execution_count": 20,
   "id": "e641a578-7837-45aa-be91-41876ed13265",
   "metadata": {},
   "outputs": [],
   "source": [
    "def get_input_ids(dp, tokenizer, completion_len, context_factor, max_seq_len=2048):\n",
    "    context = dp.context[0]\n",
    "    completion = dp.completion[0]\n",
    "    context_len = (max_seq_len-completion_len) * context_factor\n",
    "    context = context[-(context_len*10):]\n",
    "    context_tokens = tokenizer(context, return_tensors='pt')['input_ids']\n",
    "    context_tokens = context_tokens[..., -context_len:]\n",
    "    completion_tokens = tokenizer(completion, return_tensors='pt')['input_ids']\n",
    "    completion_tokens = completion_tokens[..., :completion_len]\n",
    "    \n",
    "    return torch.cat((context_tokens, completion_tokens), dim=-1), context_len, completion_len\n",
    "    print(context_tokens.shape, completion_tokens.shape,)\n",
    "                               \n",
    "    "
   ]
  },
  {
   "cell_type": "code",
   "execution_count": 21,
   "id": "86c431b8-f497-4f6f-b6c3-e2dccbbb08f0",
   "metadata": {},
   "outputs": [
    {
     "ename": "NameError",
     "evalue": "name 'dp' is not defined",
     "output_type": "error",
     "traceback": [
      "\u001b[0;31m---------------------------------------------------------------------------\u001b[0m",
      "\u001b[0;31mNameError\u001b[0m                                 Traceback (most recent call last)",
      "Cell \u001b[0;32mIn[21], line 1\u001b[0m\n\u001b[0;32m----> 1\u001b[0m get_input_ids(\u001b[43mdp\u001b[49m, tokenizer, completion_len\u001b[38;5;241m=\u001b[39m\u001b[38;5;241m20\u001b[39m, context_factor\u001b[38;5;241m=\u001b[39m\u001b[38;5;241m4\u001b[39m)\n",
      "\u001b[0;31mNameError\u001b[0m: name 'dp' is not defined"
     ]
    }
   ],
   "source": [
    "get_input_ids(dp, tokenizer, completion_len=20, context_factor=4)"
   ]
  },
  {
   "cell_type": "code",
   "execution_count": 22,
   "id": "830dbc5d-4566-4e05-bd99-051dc65452c1",
   "metadata": {},
   "outputs": [],
   "source": [
    "def get_val_loss(model, val_loader=val_loader, token_factor=1, true_completion_lens=None):\n",
    "    model.eval()\n",
    "    count = 0\n",
    "    curr_val_loss_whole_input = list()\n",
    "    curr_val_loss_completion = list()\n",
    "    with torch.no_grad():\n",
    "        for idx, hf_dp in enumerate(tqdm(val_loader)):\n",
    "            # if idx>20:\n",
    "            #     break\n",
    "            dp = DatapointComposed.from_hf_datapoint(hf_dp)\n",
    "            seq_len = 2048\n",
    "            context_ratio = 0.75\n",
    "            completion_len = 512\n",
    "            input_ids, context_len, completion_len = get_input_ids(dp, tokenizer, completion_len=completion_len, context_factor=token_factor)\n",
    "            # true_completion_len = int(seq_len*(1-context_ratio))\n",
    "            # inputs, context_len, completion_len = compose_input_sequence(dp, int(seq_len * (1 + (token_factor-1)*context_ratio)), tokenizer, context_ratio)\n",
    "            # if inputs is None:\n",
    "                # continue\n",
    "            # input_ids = inputs['input_ids'].clone()\n",
    "            # if true_completion_lens is not None:\n",
    "            #     completion_len = true_completion_lens[idx]\n",
    "            \n",
    "            # inputs['input_ids'] = inputs['input_ids'][:, :(context_len + true_completion_len)] \n",
    "                # input_ids = input_ids[:, :(context_len + completion_len)]\n",
    "            count += 1\n",
    "            input_ids = input_ids.to(model_lora.device)\n",
    "            # outputs, t_outputs = get_outputs(inputs['input_ids'], context_len, completion_len, model, val=True)\n",
    "            # outputs = model.forward(**inputs)\n",
    "            outputs = get_outputs(input_ids, context_len, completion_len, model, token_factor=token_factor)\n",
    "        \n",
    "            logits_size = outputs['logits'].size(-1)\n",
    "            loss_completion = criterion(\n",
    "                outputs['logits'].view(-1, outputs['logits'].size(-1))[-completion_len:-1, :], \n",
    "                input_ids.view(-1)[-completion_len+1:])\n",
    "            # t_logits_size = t_outputs['logits'].size(-1)\n",
    "            # t_loss_completion = criterion(t_outputs['logits'].view(-1, t_outputs['logits'].size(-1))[-completion_len:-1, :], inputs['input_ids'].view(-1)[-completion_len+1:])\n",
    "\n",
    "            \n",
    "            detached_logits = outputs['logits'].detach()\n",
    "            # if idx < 20:\n",
    "                # print(f'With pairing: {loss_completion.item():.4f}, Standard: {t_loss_completion.item():.4f}')\n",
    "            # for 0 output logit we have corresponding 1st input\n",
    "            loss_whole_input = loss_completion #criterion(detached_logits.view(-1, detached_logits.size(-1))[:-1, :], inputs['input_ids'].view(-1)[1:])\n",
    "            curr_val_loss_whole_input.append(loss_whole_input.item())\n",
    "            curr_val_loss_completion.append(loss_completion.item())\n",
    "    val_msg = f'Token Factor: {token_factor}, Loss: {sum(curr_val_loss_completion) / len(curr_val_loss_completion) :.4f}, '\n",
    "    print(f'Token Factor: {token_factor}, Loss: {sum(curr_val_loss_completion) / len(curr_val_loss_completion) :.4f}, ',\n",
    "            f'input shape: {input_ids.shape}, output shape: {outputs.logits.shape}')\n",
    "\n",
    "    return (sum(curr_val_loss_whole_input) / len(curr_val_loss_whole_input), \n",
    "    sum(curr_val_loss_completion) / len(curr_val_loss_completion), \n",
    "    count, val_msg)"
   ]
  },
  {
   "cell_type": "code",
   "execution_count": 71,
   "id": "874fa2d9-98d0-4b84-8c68-7d19d205932b",
   "metadata": {},
   "outputs": [
    {
     "data": {
      "application/vnd.jupyter.widget-view+json": {
       "model_id": "c92001b0565b4e418552f2b707a550ef",
       "version_major": 2,
       "version_minor": 0
      },
      "text/plain": [
       "  0%|          | 0/128 [00:00<?, ?it/s]"
      ]
     },
     "metadata": {},
     "output_type": "display_data"
    },
    {
     "name": "stdout",
     "output_type": "stream",
     "text": [
      "Token Factor: 1, Loss: 0.7529,  input shape: torch.Size([1, 2048]), output shape: torch.Size([1, 2048, 32256])\n"
     ]
    },
    {
     "data": {
      "application/vnd.jupyter.widget-view+json": {
       "model_id": "928fe0253ccc4ce1a3c00e741a81bac0",
       "version_major": 2,
       "version_minor": 0
      },
      "text/plain": [
       "  0%|          | 0/128 [00:00<?, ?it/s]"
      ]
     },
     "metadata": {},
     "output_type": "display_data"
    },
    {
     "ename": "KeyboardInterrupt",
     "evalue": "",
     "output_type": "error",
     "traceback": [
      "\u001b[0;31m---------------------------------------------------------------------------\u001b[0m",
      "\u001b[0;31mKeyboardInterrupt\u001b[0m                         Traceback (most recent call last)",
      "Cell \u001b[0;32mIn[71], line 2\u001b[0m\n\u001b[1;32m      1\u001b[0m \u001b[38;5;28;01mfor\u001b[39;00m tf \u001b[38;5;129;01min\u001b[39;00m \u001b[38;5;28mrange\u001b[39m(\u001b[38;5;241m1\u001b[39m, \u001b[38;5;241m16\u001b[39m):\n\u001b[0;32m----> 2\u001b[0m     \u001b[43mget_val_loss\u001b[49m\u001b[43m(\u001b[49m\u001b[43mmodel_lora\u001b[49m\u001b[43m,\u001b[49m\u001b[43m \u001b[49m\u001b[43mtoken_factor\u001b[49m\u001b[38;5;241;43m=\u001b[39;49m\u001b[43mtf\u001b[49m\u001b[43m,\u001b[49m\u001b[43m \u001b[49m\u001b[43mtrue_completion_lens\u001b[49m\u001b[38;5;241;43m=\u001b[39;49m\u001b[43mtrue_completion_lens\u001b[49m\u001b[43m)\u001b[49m\n",
      "Cell \u001b[0;32mIn[70], line 28\u001b[0m, in \u001b[0;36mget_val_loss\u001b[0;34m(model, val_loader, token_factor, true_completion_lens)\u001b[0m\n\u001b[1;32m     25\u001b[0m input_ids \u001b[38;5;241m=\u001b[39m input_ids\u001b[38;5;241m.\u001b[39mto(model_lora\u001b[38;5;241m.\u001b[39mdevice)\n\u001b[1;32m     26\u001b[0m \u001b[38;5;66;03m# outputs, t_outputs = get_outputs(inputs['input_ids'], context_len, completion_len, model, val=True)\u001b[39;00m\n\u001b[1;32m     27\u001b[0m \u001b[38;5;66;03m# outputs = model.forward(**inputs)\u001b[39;00m\n\u001b[0;32m---> 28\u001b[0m outputs \u001b[38;5;241m=\u001b[39m \u001b[43mget_outputs\u001b[49m\u001b[43m(\u001b[49m\u001b[43minput_ids\u001b[49m\u001b[43m,\u001b[49m\u001b[43m \u001b[49m\u001b[43mcontext_len\u001b[49m\u001b[43m,\u001b[49m\u001b[43m \u001b[49m\u001b[43mcompletion_len\u001b[49m\u001b[43m,\u001b[49m\u001b[43m \u001b[49m\u001b[43mmodel\u001b[49m\u001b[43m,\u001b[49m\u001b[43m \u001b[49m\u001b[43mtoken_factor\u001b[49m\u001b[38;5;241;43m=\u001b[39;49m\u001b[43mtoken_factor\u001b[49m\u001b[43m)\u001b[49m\n\u001b[1;32m     30\u001b[0m logits_size \u001b[38;5;241m=\u001b[39m outputs[\u001b[38;5;124m'\u001b[39m\u001b[38;5;124mlogits\u001b[39m\u001b[38;5;124m'\u001b[39m]\u001b[38;5;241m.\u001b[39msize(\u001b[38;5;241m-\u001b[39m\u001b[38;5;241m1\u001b[39m)\n\u001b[1;32m     31\u001b[0m loss_completion \u001b[38;5;241m=\u001b[39m criterion(\n\u001b[1;32m     32\u001b[0m     outputs[\u001b[38;5;124m'\u001b[39m\u001b[38;5;124mlogits\u001b[39m\u001b[38;5;124m'\u001b[39m]\u001b[38;5;241m.\u001b[39mview(\u001b[38;5;241m-\u001b[39m\u001b[38;5;241m1\u001b[39m, outputs[\u001b[38;5;124m'\u001b[39m\u001b[38;5;124mlogits\u001b[39m\u001b[38;5;124m'\u001b[39m]\u001b[38;5;241m.\u001b[39msize(\u001b[38;5;241m-\u001b[39m\u001b[38;5;241m1\u001b[39m))[\u001b[38;5;241m-\u001b[39mcompletion_len:\u001b[38;5;241m-\u001b[39m\u001b[38;5;241m1\u001b[39m, :], \n\u001b[1;32m     33\u001b[0m     input_ids\u001b[38;5;241m.\u001b[39mview(\u001b[38;5;241m-\u001b[39m\u001b[38;5;241m1\u001b[39m)[\u001b[38;5;241m-\u001b[39mcompletion_len\u001b[38;5;241m+\u001b[39m\u001b[38;5;241m1\u001b[39m:])\n",
      "Cell \u001b[0;32mIn[59], line 21\u001b[0m, in \u001b[0;36mget_outputs\u001b[0;34m(input_ids, context_len, completion_len, model, val, token_factor)\u001b[0m\n\u001b[1;32m     19\u001b[0m new_embeds \u001b[38;5;241m=\u001b[39m torch\u001b[38;5;241m.\u001b[39mcat((paired_context_embeds, completion_embeds), dim\u001b[38;5;241m=\u001b[39m\u001b[38;5;241m-\u001b[39m\u001b[38;5;241m2\u001b[39m)\n\u001b[1;32m     20\u001b[0m \u001b[38;5;66;03m# print(embeds.shape, '---->', new_embeds.shape)\u001b[39;00m\n\u001b[0;32m---> 21\u001b[0m outputs \u001b[38;5;241m=\u001b[39m \u001b[43mmodel\u001b[49m\u001b[43m(\u001b[49m\u001b[43minputs_embeds\u001b[49m\u001b[38;5;241;43m=\u001b[39;49m\u001b[43mnew_embeds\u001b[49m\u001b[43m)\u001b[49m\n\u001b[1;32m     22\u001b[0m \u001b[38;5;28;01mif\u001b[39;00m val:\n\u001b[1;32m     23\u001b[0m     \u001b[38;5;28;01mreturn\u001b[39;00m outputs, model(input_ids[:, \u001b[38;5;241m-\u001b[39m((token_factor\u001b[38;5;241m-\u001b[39m\u001b[38;5;241m1\u001b[39m) \u001b[38;5;241m*\u001b[39m context_len \u001b[38;5;241m+\u001b[39m \u001b[38;5;241m1\u001b[39m):])\n",
      "File \u001b[0;32m~/lca-solvers/venv/lib/python3.11/site-packages/torch/nn/modules/module.py:1511\u001b[0m, in \u001b[0;36mModule._wrapped_call_impl\u001b[0;34m(self, *args, **kwargs)\u001b[0m\n\u001b[1;32m   1509\u001b[0m     \u001b[38;5;28;01mreturn\u001b[39;00m \u001b[38;5;28mself\u001b[39m\u001b[38;5;241m.\u001b[39m_compiled_call_impl(\u001b[38;5;241m*\u001b[39margs, \u001b[38;5;241m*\u001b[39m\u001b[38;5;241m*\u001b[39mkwargs)  \u001b[38;5;66;03m# type: ignore[misc]\u001b[39;00m\n\u001b[1;32m   1510\u001b[0m \u001b[38;5;28;01melse\u001b[39;00m:\n\u001b[0;32m-> 1511\u001b[0m     \u001b[38;5;28;01mreturn\u001b[39;00m \u001b[38;5;28;43mself\u001b[39;49m\u001b[38;5;241;43m.\u001b[39;49m\u001b[43m_call_impl\u001b[49m\u001b[43m(\u001b[49m\u001b[38;5;241;43m*\u001b[39;49m\u001b[43margs\u001b[49m\u001b[43m,\u001b[49m\u001b[43m \u001b[49m\u001b[38;5;241;43m*\u001b[39;49m\u001b[38;5;241;43m*\u001b[39;49m\u001b[43mkwargs\u001b[49m\u001b[43m)\u001b[49m\n",
      "File \u001b[0;32m~/lca-solvers/venv/lib/python3.11/site-packages/torch/nn/modules/module.py:1520\u001b[0m, in \u001b[0;36mModule._call_impl\u001b[0;34m(self, *args, **kwargs)\u001b[0m\n\u001b[1;32m   1515\u001b[0m \u001b[38;5;66;03m# If we don't have any hooks, we want to skip the rest of the logic in\u001b[39;00m\n\u001b[1;32m   1516\u001b[0m \u001b[38;5;66;03m# this function, and just call forward.\u001b[39;00m\n\u001b[1;32m   1517\u001b[0m \u001b[38;5;28;01mif\u001b[39;00m \u001b[38;5;129;01mnot\u001b[39;00m (\u001b[38;5;28mself\u001b[39m\u001b[38;5;241m.\u001b[39m_backward_hooks \u001b[38;5;129;01mor\u001b[39;00m \u001b[38;5;28mself\u001b[39m\u001b[38;5;241m.\u001b[39m_backward_pre_hooks \u001b[38;5;129;01mor\u001b[39;00m \u001b[38;5;28mself\u001b[39m\u001b[38;5;241m.\u001b[39m_forward_hooks \u001b[38;5;129;01mor\u001b[39;00m \u001b[38;5;28mself\u001b[39m\u001b[38;5;241m.\u001b[39m_forward_pre_hooks\n\u001b[1;32m   1518\u001b[0m         \u001b[38;5;129;01mor\u001b[39;00m _global_backward_pre_hooks \u001b[38;5;129;01mor\u001b[39;00m _global_backward_hooks\n\u001b[1;32m   1519\u001b[0m         \u001b[38;5;129;01mor\u001b[39;00m _global_forward_hooks \u001b[38;5;129;01mor\u001b[39;00m _global_forward_pre_hooks):\n\u001b[0;32m-> 1520\u001b[0m     \u001b[38;5;28;01mreturn\u001b[39;00m \u001b[43mforward_call\u001b[49m\u001b[43m(\u001b[49m\u001b[38;5;241;43m*\u001b[39;49m\u001b[43margs\u001b[49m\u001b[43m,\u001b[49m\u001b[43m \u001b[49m\u001b[38;5;241;43m*\u001b[39;49m\u001b[38;5;241;43m*\u001b[39;49m\u001b[43mkwargs\u001b[49m\u001b[43m)\u001b[49m\n\u001b[1;32m   1522\u001b[0m \u001b[38;5;28;01mtry\u001b[39;00m:\n\u001b[1;32m   1523\u001b[0m     result \u001b[38;5;241m=\u001b[39m \u001b[38;5;28;01mNone\u001b[39;00m\n",
      "File \u001b[0;32m~/lca-solvers/venv/lib/python3.11/site-packages/peft/peft_model.py:1129\u001b[0m, in \u001b[0;36mPeftModelForCausalLM.forward\u001b[0;34m(self, input_ids, attention_mask, inputs_embeds, labels, output_attentions, output_hidden_states, return_dict, task_ids, **kwargs)\u001b[0m\n\u001b[1;32m   1127\u001b[0m     \u001b[38;5;28;01mwith\u001b[39;00m \u001b[38;5;28mself\u001b[39m\u001b[38;5;241m.\u001b[39m_enable_peft_forward_hooks(\u001b[38;5;241m*\u001b[39m\u001b[38;5;241m*\u001b[39mkwargs):\n\u001b[1;32m   1128\u001b[0m         kwargs \u001b[38;5;241m=\u001b[39m {k: v \u001b[38;5;28;01mfor\u001b[39;00m k, v \u001b[38;5;129;01min\u001b[39;00m kwargs\u001b[38;5;241m.\u001b[39mitems() \u001b[38;5;28;01mif\u001b[39;00m k \u001b[38;5;129;01mnot\u001b[39;00m \u001b[38;5;129;01min\u001b[39;00m \u001b[38;5;28mself\u001b[39m\u001b[38;5;241m.\u001b[39mspecial_peft_forward_args}\n\u001b[0;32m-> 1129\u001b[0m         \u001b[38;5;28;01mreturn\u001b[39;00m \u001b[38;5;28;43mself\u001b[39;49m\u001b[38;5;241;43m.\u001b[39;49m\u001b[43mbase_model\u001b[49m\u001b[43m(\u001b[49m\n\u001b[1;32m   1130\u001b[0m \u001b[43m            \u001b[49m\u001b[43minput_ids\u001b[49m\u001b[38;5;241;43m=\u001b[39;49m\u001b[43minput_ids\u001b[49m\u001b[43m,\u001b[49m\n\u001b[1;32m   1131\u001b[0m \u001b[43m            \u001b[49m\u001b[43mattention_mask\u001b[49m\u001b[38;5;241;43m=\u001b[39;49m\u001b[43mattention_mask\u001b[49m\u001b[43m,\u001b[49m\n\u001b[1;32m   1132\u001b[0m \u001b[43m            \u001b[49m\u001b[43minputs_embeds\u001b[49m\u001b[38;5;241;43m=\u001b[39;49m\u001b[43minputs_embeds\u001b[49m\u001b[43m,\u001b[49m\n\u001b[1;32m   1133\u001b[0m \u001b[43m            \u001b[49m\u001b[43mlabels\u001b[49m\u001b[38;5;241;43m=\u001b[39;49m\u001b[43mlabels\u001b[49m\u001b[43m,\u001b[49m\n\u001b[1;32m   1134\u001b[0m \u001b[43m            \u001b[49m\u001b[43moutput_attentions\u001b[49m\u001b[38;5;241;43m=\u001b[39;49m\u001b[43moutput_attentions\u001b[49m\u001b[43m,\u001b[49m\n\u001b[1;32m   1135\u001b[0m \u001b[43m            \u001b[49m\u001b[43moutput_hidden_states\u001b[49m\u001b[38;5;241;43m=\u001b[39;49m\u001b[43moutput_hidden_states\u001b[49m\u001b[43m,\u001b[49m\n\u001b[1;32m   1136\u001b[0m \u001b[43m            \u001b[49m\u001b[43mreturn_dict\u001b[49m\u001b[38;5;241;43m=\u001b[39;49m\u001b[43mreturn_dict\u001b[49m\u001b[43m,\u001b[49m\n\u001b[1;32m   1137\u001b[0m \u001b[43m            \u001b[49m\u001b[38;5;241;43m*\u001b[39;49m\u001b[38;5;241;43m*\u001b[39;49m\u001b[43mkwargs\u001b[49m\u001b[43m,\u001b[49m\n\u001b[1;32m   1138\u001b[0m \u001b[43m        \u001b[49m\u001b[43m)\u001b[49m\n\u001b[1;32m   1140\u001b[0m batch_size \u001b[38;5;241m=\u001b[39m _get_batch_size(input_ids, inputs_embeds)\n\u001b[1;32m   1141\u001b[0m \u001b[38;5;28;01mif\u001b[39;00m attention_mask \u001b[38;5;129;01mis\u001b[39;00m \u001b[38;5;129;01mnot\u001b[39;00m \u001b[38;5;28;01mNone\u001b[39;00m:\n\u001b[1;32m   1142\u001b[0m     \u001b[38;5;66;03m# concat prompt attention mask\u001b[39;00m\n",
      "File \u001b[0;32m~/lca-solvers/venv/lib/python3.11/site-packages/torch/nn/modules/module.py:1511\u001b[0m, in \u001b[0;36mModule._wrapped_call_impl\u001b[0;34m(self, *args, **kwargs)\u001b[0m\n\u001b[1;32m   1509\u001b[0m     \u001b[38;5;28;01mreturn\u001b[39;00m \u001b[38;5;28mself\u001b[39m\u001b[38;5;241m.\u001b[39m_compiled_call_impl(\u001b[38;5;241m*\u001b[39margs, \u001b[38;5;241m*\u001b[39m\u001b[38;5;241m*\u001b[39mkwargs)  \u001b[38;5;66;03m# type: ignore[misc]\u001b[39;00m\n\u001b[1;32m   1510\u001b[0m \u001b[38;5;28;01melse\u001b[39;00m:\n\u001b[0;32m-> 1511\u001b[0m     \u001b[38;5;28;01mreturn\u001b[39;00m \u001b[38;5;28;43mself\u001b[39;49m\u001b[38;5;241;43m.\u001b[39;49m\u001b[43m_call_impl\u001b[49m\u001b[43m(\u001b[49m\u001b[38;5;241;43m*\u001b[39;49m\u001b[43margs\u001b[49m\u001b[43m,\u001b[49m\u001b[43m \u001b[49m\u001b[38;5;241;43m*\u001b[39;49m\u001b[38;5;241;43m*\u001b[39;49m\u001b[43mkwargs\u001b[49m\u001b[43m)\u001b[49m\n",
      "File \u001b[0;32m~/lca-solvers/venv/lib/python3.11/site-packages/torch/nn/modules/module.py:1520\u001b[0m, in \u001b[0;36mModule._call_impl\u001b[0;34m(self, *args, **kwargs)\u001b[0m\n\u001b[1;32m   1515\u001b[0m \u001b[38;5;66;03m# If we don't have any hooks, we want to skip the rest of the logic in\u001b[39;00m\n\u001b[1;32m   1516\u001b[0m \u001b[38;5;66;03m# this function, and just call forward.\u001b[39;00m\n\u001b[1;32m   1517\u001b[0m \u001b[38;5;28;01mif\u001b[39;00m \u001b[38;5;129;01mnot\u001b[39;00m (\u001b[38;5;28mself\u001b[39m\u001b[38;5;241m.\u001b[39m_backward_hooks \u001b[38;5;129;01mor\u001b[39;00m \u001b[38;5;28mself\u001b[39m\u001b[38;5;241m.\u001b[39m_backward_pre_hooks \u001b[38;5;129;01mor\u001b[39;00m \u001b[38;5;28mself\u001b[39m\u001b[38;5;241m.\u001b[39m_forward_hooks \u001b[38;5;129;01mor\u001b[39;00m \u001b[38;5;28mself\u001b[39m\u001b[38;5;241m.\u001b[39m_forward_pre_hooks\n\u001b[1;32m   1518\u001b[0m         \u001b[38;5;129;01mor\u001b[39;00m _global_backward_pre_hooks \u001b[38;5;129;01mor\u001b[39;00m _global_backward_hooks\n\u001b[1;32m   1519\u001b[0m         \u001b[38;5;129;01mor\u001b[39;00m _global_forward_hooks \u001b[38;5;129;01mor\u001b[39;00m _global_forward_pre_hooks):\n\u001b[0;32m-> 1520\u001b[0m     \u001b[38;5;28;01mreturn\u001b[39;00m \u001b[43mforward_call\u001b[49m\u001b[43m(\u001b[49m\u001b[38;5;241;43m*\u001b[39;49m\u001b[43margs\u001b[49m\u001b[43m,\u001b[49m\u001b[43m \u001b[49m\u001b[38;5;241;43m*\u001b[39;49m\u001b[38;5;241;43m*\u001b[39;49m\u001b[43mkwargs\u001b[49m\u001b[43m)\u001b[49m\n\u001b[1;32m   1522\u001b[0m \u001b[38;5;28;01mtry\u001b[39;00m:\n\u001b[1;32m   1523\u001b[0m     result \u001b[38;5;241m=\u001b[39m \u001b[38;5;28;01mNone\u001b[39;00m\n",
      "File \u001b[0;32m~/lca-solvers/venv/lib/python3.11/site-packages/peft/tuners/tuners_utils.py:161\u001b[0m, in \u001b[0;36mBaseTuner.forward\u001b[0;34m(self, *args, **kwargs)\u001b[0m\n\u001b[1;32m    160\u001b[0m \u001b[38;5;28;01mdef\u001b[39;00m \u001b[38;5;21mforward\u001b[39m(\u001b[38;5;28mself\u001b[39m, \u001b[38;5;241m*\u001b[39margs: Any, \u001b[38;5;241m*\u001b[39m\u001b[38;5;241m*\u001b[39mkwargs: Any):\n\u001b[0;32m--> 161\u001b[0m     \u001b[38;5;28;01mreturn\u001b[39;00m \u001b[38;5;28;43mself\u001b[39;49m\u001b[38;5;241;43m.\u001b[39;49m\u001b[43mmodel\u001b[49m\u001b[38;5;241;43m.\u001b[39;49m\u001b[43mforward\u001b[49m\u001b[43m(\u001b[49m\u001b[38;5;241;43m*\u001b[39;49m\u001b[43margs\u001b[49m\u001b[43m,\u001b[49m\u001b[43m \u001b[49m\u001b[38;5;241;43m*\u001b[39;49m\u001b[38;5;241;43m*\u001b[39;49m\u001b[43mkwargs\u001b[49m\u001b[43m)\u001b[49m\n",
      "File \u001b[0;32m~/lca-solvers/venv/lib/python3.11/site-packages/transformers/models/llama/modeling_llama.py:1208\u001b[0m, in \u001b[0;36mLlamaForCausalLM.forward\u001b[0;34m(self, input_ids, attention_mask, position_ids, past_key_values, inputs_embeds, labels, use_cache, output_attentions, output_hidden_states, return_dict, cache_position)\u001b[0m\n\u001b[1;32m   1205\u001b[0m return_dict \u001b[38;5;241m=\u001b[39m return_dict \u001b[38;5;28;01mif\u001b[39;00m return_dict \u001b[38;5;129;01mis\u001b[39;00m \u001b[38;5;129;01mnot\u001b[39;00m \u001b[38;5;28;01mNone\u001b[39;00m \u001b[38;5;28;01melse\u001b[39;00m \u001b[38;5;28mself\u001b[39m\u001b[38;5;241m.\u001b[39mconfig\u001b[38;5;241m.\u001b[39muse_return_dict\n\u001b[1;32m   1207\u001b[0m \u001b[38;5;66;03m# decoder outputs consists of (dec_features, layer_state, dec_hidden, dec_attn)\u001b[39;00m\n\u001b[0;32m-> 1208\u001b[0m outputs \u001b[38;5;241m=\u001b[39m \u001b[38;5;28;43mself\u001b[39;49m\u001b[38;5;241;43m.\u001b[39;49m\u001b[43mmodel\u001b[49m\u001b[43m(\u001b[49m\n\u001b[1;32m   1209\u001b[0m \u001b[43m    \u001b[49m\u001b[43minput_ids\u001b[49m\u001b[38;5;241;43m=\u001b[39;49m\u001b[43minput_ids\u001b[49m\u001b[43m,\u001b[49m\n\u001b[1;32m   1210\u001b[0m \u001b[43m    \u001b[49m\u001b[43mattention_mask\u001b[49m\u001b[38;5;241;43m=\u001b[39;49m\u001b[43mattention_mask\u001b[49m\u001b[43m,\u001b[49m\n\u001b[1;32m   1211\u001b[0m \u001b[43m    \u001b[49m\u001b[43mposition_ids\u001b[49m\u001b[38;5;241;43m=\u001b[39;49m\u001b[43mposition_ids\u001b[49m\u001b[43m,\u001b[49m\n\u001b[1;32m   1212\u001b[0m \u001b[43m    \u001b[49m\u001b[43mpast_key_values\u001b[49m\u001b[38;5;241;43m=\u001b[39;49m\u001b[43mpast_key_values\u001b[49m\u001b[43m,\u001b[49m\n\u001b[1;32m   1213\u001b[0m \u001b[43m    \u001b[49m\u001b[43minputs_embeds\u001b[49m\u001b[38;5;241;43m=\u001b[39;49m\u001b[43minputs_embeds\u001b[49m\u001b[43m,\u001b[49m\n\u001b[1;32m   1214\u001b[0m \u001b[43m    \u001b[49m\u001b[43muse_cache\u001b[49m\u001b[38;5;241;43m=\u001b[39;49m\u001b[43muse_cache\u001b[49m\u001b[43m,\u001b[49m\n\u001b[1;32m   1215\u001b[0m \u001b[43m    \u001b[49m\u001b[43moutput_attentions\u001b[49m\u001b[38;5;241;43m=\u001b[39;49m\u001b[43moutput_attentions\u001b[49m\u001b[43m,\u001b[49m\n\u001b[1;32m   1216\u001b[0m \u001b[43m    \u001b[49m\u001b[43moutput_hidden_states\u001b[49m\u001b[38;5;241;43m=\u001b[39;49m\u001b[43moutput_hidden_states\u001b[49m\u001b[43m,\u001b[49m\n\u001b[1;32m   1217\u001b[0m \u001b[43m    \u001b[49m\u001b[43mreturn_dict\u001b[49m\u001b[38;5;241;43m=\u001b[39;49m\u001b[43mreturn_dict\u001b[49m\u001b[43m,\u001b[49m\n\u001b[1;32m   1218\u001b[0m \u001b[43m    \u001b[49m\u001b[43mcache_position\u001b[49m\u001b[38;5;241;43m=\u001b[39;49m\u001b[43mcache_position\u001b[49m\u001b[43m,\u001b[49m\n\u001b[1;32m   1219\u001b[0m \u001b[43m\u001b[49m\u001b[43m)\u001b[49m\n\u001b[1;32m   1221\u001b[0m hidden_states \u001b[38;5;241m=\u001b[39m outputs[\u001b[38;5;241m0\u001b[39m]\n\u001b[1;32m   1222\u001b[0m \u001b[38;5;28;01mif\u001b[39;00m \u001b[38;5;28mself\u001b[39m\u001b[38;5;241m.\u001b[39mconfig\u001b[38;5;241m.\u001b[39mpretraining_tp \u001b[38;5;241m>\u001b[39m \u001b[38;5;241m1\u001b[39m:\n",
      "File \u001b[0;32m~/lca-solvers/venv/lib/python3.11/site-packages/torch/nn/modules/module.py:1511\u001b[0m, in \u001b[0;36mModule._wrapped_call_impl\u001b[0;34m(self, *args, **kwargs)\u001b[0m\n\u001b[1;32m   1509\u001b[0m     \u001b[38;5;28;01mreturn\u001b[39;00m \u001b[38;5;28mself\u001b[39m\u001b[38;5;241m.\u001b[39m_compiled_call_impl(\u001b[38;5;241m*\u001b[39margs, \u001b[38;5;241m*\u001b[39m\u001b[38;5;241m*\u001b[39mkwargs)  \u001b[38;5;66;03m# type: ignore[misc]\u001b[39;00m\n\u001b[1;32m   1510\u001b[0m \u001b[38;5;28;01melse\u001b[39;00m:\n\u001b[0;32m-> 1511\u001b[0m     \u001b[38;5;28;01mreturn\u001b[39;00m \u001b[38;5;28;43mself\u001b[39;49m\u001b[38;5;241;43m.\u001b[39;49m\u001b[43m_call_impl\u001b[49m\u001b[43m(\u001b[49m\u001b[38;5;241;43m*\u001b[39;49m\u001b[43margs\u001b[49m\u001b[43m,\u001b[49m\u001b[43m \u001b[49m\u001b[38;5;241;43m*\u001b[39;49m\u001b[38;5;241;43m*\u001b[39;49m\u001b[43mkwargs\u001b[49m\u001b[43m)\u001b[49m\n",
      "File \u001b[0;32m~/lca-solvers/venv/lib/python3.11/site-packages/torch/nn/modules/module.py:1520\u001b[0m, in \u001b[0;36mModule._call_impl\u001b[0;34m(self, *args, **kwargs)\u001b[0m\n\u001b[1;32m   1515\u001b[0m \u001b[38;5;66;03m# If we don't have any hooks, we want to skip the rest of the logic in\u001b[39;00m\n\u001b[1;32m   1516\u001b[0m \u001b[38;5;66;03m# this function, and just call forward.\u001b[39;00m\n\u001b[1;32m   1517\u001b[0m \u001b[38;5;28;01mif\u001b[39;00m \u001b[38;5;129;01mnot\u001b[39;00m (\u001b[38;5;28mself\u001b[39m\u001b[38;5;241m.\u001b[39m_backward_hooks \u001b[38;5;129;01mor\u001b[39;00m \u001b[38;5;28mself\u001b[39m\u001b[38;5;241m.\u001b[39m_backward_pre_hooks \u001b[38;5;129;01mor\u001b[39;00m \u001b[38;5;28mself\u001b[39m\u001b[38;5;241m.\u001b[39m_forward_hooks \u001b[38;5;129;01mor\u001b[39;00m \u001b[38;5;28mself\u001b[39m\u001b[38;5;241m.\u001b[39m_forward_pre_hooks\n\u001b[1;32m   1518\u001b[0m         \u001b[38;5;129;01mor\u001b[39;00m _global_backward_pre_hooks \u001b[38;5;129;01mor\u001b[39;00m _global_backward_hooks\n\u001b[1;32m   1519\u001b[0m         \u001b[38;5;129;01mor\u001b[39;00m _global_forward_hooks \u001b[38;5;129;01mor\u001b[39;00m _global_forward_pre_hooks):\n\u001b[0;32m-> 1520\u001b[0m     \u001b[38;5;28;01mreturn\u001b[39;00m \u001b[43mforward_call\u001b[49m\u001b[43m(\u001b[49m\u001b[38;5;241;43m*\u001b[39;49m\u001b[43margs\u001b[49m\u001b[43m,\u001b[49m\u001b[43m \u001b[49m\u001b[38;5;241;43m*\u001b[39;49m\u001b[38;5;241;43m*\u001b[39;49m\u001b[43mkwargs\u001b[49m\u001b[43m)\u001b[49m\n\u001b[1;32m   1522\u001b[0m \u001b[38;5;28;01mtry\u001b[39;00m:\n\u001b[1;32m   1523\u001b[0m     result \u001b[38;5;241m=\u001b[39m \u001b[38;5;28;01mNone\u001b[39;00m\n",
      "File \u001b[0;32m~/lca-solvers/venv/lib/python3.11/site-packages/transformers/models/llama/modeling_llama.py:1018\u001b[0m, in \u001b[0;36mLlamaModel.forward\u001b[0;34m(self, input_ids, attention_mask, position_ids, past_key_values, inputs_embeds, use_cache, output_attentions, output_hidden_states, return_dict, cache_position)\u001b[0m\n\u001b[1;32m   1007\u001b[0m     layer_outputs \u001b[38;5;241m=\u001b[39m \u001b[38;5;28mself\u001b[39m\u001b[38;5;241m.\u001b[39m_gradient_checkpointing_func(\n\u001b[1;32m   1008\u001b[0m         decoder_layer\u001b[38;5;241m.\u001b[39m\u001b[38;5;21m__call__\u001b[39m,\n\u001b[1;32m   1009\u001b[0m         hidden_states,\n\u001b[0;32m   (...)\u001b[0m\n\u001b[1;32m   1015\u001b[0m         cache_position,\n\u001b[1;32m   1016\u001b[0m     )\n\u001b[1;32m   1017\u001b[0m \u001b[38;5;28;01melse\u001b[39;00m:\n\u001b[0;32m-> 1018\u001b[0m     layer_outputs \u001b[38;5;241m=\u001b[39m \u001b[43mdecoder_layer\u001b[49m\u001b[43m(\u001b[49m\n\u001b[1;32m   1019\u001b[0m \u001b[43m        \u001b[49m\u001b[43mhidden_states\u001b[49m\u001b[43m,\u001b[49m\n\u001b[1;32m   1020\u001b[0m \u001b[43m        \u001b[49m\u001b[43mattention_mask\u001b[49m\u001b[38;5;241;43m=\u001b[39;49m\u001b[43mcausal_mask\u001b[49m\u001b[43m,\u001b[49m\n\u001b[1;32m   1021\u001b[0m \u001b[43m        \u001b[49m\u001b[43mposition_ids\u001b[49m\u001b[38;5;241;43m=\u001b[39;49m\u001b[43mposition_ids\u001b[49m\u001b[43m,\u001b[49m\n\u001b[1;32m   1022\u001b[0m \u001b[43m        \u001b[49m\u001b[43mpast_key_value\u001b[49m\u001b[38;5;241;43m=\u001b[39;49m\u001b[43mpast_key_values\u001b[49m\u001b[43m,\u001b[49m\n\u001b[1;32m   1023\u001b[0m \u001b[43m        \u001b[49m\u001b[43moutput_attentions\u001b[49m\u001b[38;5;241;43m=\u001b[39;49m\u001b[43moutput_attentions\u001b[49m\u001b[43m,\u001b[49m\n\u001b[1;32m   1024\u001b[0m \u001b[43m        \u001b[49m\u001b[43muse_cache\u001b[49m\u001b[38;5;241;43m=\u001b[39;49m\u001b[43muse_cache\u001b[49m\u001b[43m,\u001b[49m\n\u001b[1;32m   1025\u001b[0m \u001b[43m        \u001b[49m\u001b[43mcache_position\u001b[49m\u001b[38;5;241;43m=\u001b[39;49m\u001b[43mcache_position\u001b[49m\u001b[43m,\u001b[49m\n\u001b[1;32m   1026\u001b[0m \u001b[43m    \u001b[49m\u001b[43m)\u001b[49m\n\u001b[1;32m   1028\u001b[0m hidden_states \u001b[38;5;241m=\u001b[39m layer_outputs[\u001b[38;5;241m0\u001b[39m]\n\u001b[1;32m   1030\u001b[0m \u001b[38;5;28;01mif\u001b[39;00m use_cache:\n",
      "File \u001b[0;32m~/lca-solvers/venv/lib/python3.11/site-packages/torch/nn/modules/module.py:1511\u001b[0m, in \u001b[0;36mModule._wrapped_call_impl\u001b[0;34m(self, *args, **kwargs)\u001b[0m\n\u001b[1;32m   1509\u001b[0m     \u001b[38;5;28;01mreturn\u001b[39;00m \u001b[38;5;28mself\u001b[39m\u001b[38;5;241m.\u001b[39m_compiled_call_impl(\u001b[38;5;241m*\u001b[39margs, \u001b[38;5;241m*\u001b[39m\u001b[38;5;241m*\u001b[39mkwargs)  \u001b[38;5;66;03m# type: ignore[misc]\u001b[39;00m\n\u001b[1;32m   1510\u001b[0m \u001b[38;5;28;01melse\u001b[39;00m:\n\u001b[0;32m-> 1511\u001b[0m     \u001b[38;5;28;01mreturn\u001b[39;00m \u001b[38;5;28;43mself\u001b[39;49m\u001b[38;5;241;43m.\u001b[39;49m\u001b[43m_call_impl\u001b[49m\u001b[43m(\u001b[49m\u001b[38;5;241;43m*\u001b[39;49m\u001b[43margs\u001b[49m\u001b[43m,\u001b[49m\u001b[43m \u001b[49m\u001b[38;5;241;43m*\u001b[39;49m\u001b[38;5;241;43m*\u001b[39;49m\u001b[43mkwargs\u001b[49m\u001b[43m)\u001b[49m\n",
      "File \u001b[0;32m~/lca-solvers/venv/lib/python3.11/site-packages/torch/nn/modules/module.py:1520\u001b[0m, in \u001b[0;36mModule._call_impl\u001b[0;34m(self, *args, **kwargs)\u001b[0m\n\u001b[1;32m   1515\u001b[0m \u001b[38;5;66;03m# If we don't have any hooks, we want to skip the rest of the logic in\u001b[39;00m\n\u001b[1;32m   1516\u001b[0m \u001b[38;5;66;03m# this function, and just call forward.\u001b[39;00m\n\u001b[1;32m   1517\u001b[0m \u001b[38;5;28;01mif\u001b[39;00m \u001b[38;5;129;01mnot\u001b[39;00m (\u001b[38;5;28mself\u001b[39m\u001b[38;5;241m.\u001b[39m_backward_hooks \u001b[38;5;129;01mor\u001b[39;00m \u001b[38;5;28mself\u001b[39m\u001b[38;5;241m.\u001b[39m_backward_pre_hooks \u001b[38;5;129;01mor\u001b[39;00m \u001b[38;5;28mself\u001b[39m\u001b[38;5;241m.\u001b[39m_forward_hooks \u001b[38;5;129;01mor\u001b[39;00m \u001b[38;5;28mself\u001b[39m\u001b[38;5;241m.\u001b[39m_forward_pre_hooks\n\u001b[1;32m   1518\u001b[0m         \u001b[38;5;129;01mor\u001b[39;00m _global_backward_pre_hooks \u001b[38;5;129;01mor\u001b[39;00m _global_backward_hooks\n\u001b[1;32m   1519\u001b[0m         \u001b[38;5;129;01mor\u001b[39;00m _global_forward_hooks \u001b[38;5;129;01mor\u001b[39;00m _global_forward_pre_hooks):\n\u001b[0;32m-> 1520\u001b[0m     \u001b[38;5;28;01mreturn\u001b[39;00m \u001b[43mforward_call\u001b[49m\u001b[43m(\u001b[49m\u001b[38;5;241;43m*\u001b[39;49m\u001b[43margs\u001b[49m\u001b[43m,\u001b[49m\u001b[43m \u001b[49m\u001b[38;5;241;43m*\u001b[39;49m\u001b[38;5;241;43m*\u001b[39;49m\u001b[43mkwargs\u001b[49m\u001b[43m)\u001b[49m\n\u001b[1;32m   1522\u001b[0m \u001b[38;5;28;01mtry\u001b[39;00m:\n\u001b[1;32m   1523\u001b[0m     result \u001b[38;5;241m=\u001b[39m \u001b[38;5;28;01mNone\u001b[39;00m\n",
      "File \u001b[0;32m~/lca-solvers/venv/lib/python3.11/site-packages/transformers/models/llama/modeling_llama.py:741\u001b[0m, in \u001b[0;36mLlamaDecoderLayer.forward\u001b[0;34m(self, hidden_states, attention_mask, position_ids, past_key_value, output_attentions, use_cache, cache_position, **kwargs)\u001b[0m\n\u001b[1;32m    738\u001b[0m hidden_states \u001b[38;5;241m=\u001b[39m \u001b[38;5;28mself\u001b[39m\u001b[38;5;241m.\u001b[39minput_layernorm(hidden_states)\n\u001b[1;32m    740\u001b[0m \u001b[38;5;66;03m# Self Attention\u001b[39;00m\n\u001b[0;32m--> 741\u001b[0m hidden_states, self_attn_weights, present_key_value \u001b[38;5;241m=\u001b[39m \u001b[38;5;28;43mself\u001b[39;49m\u001b[38;5;241;43m.\u001b[39;49m\u001b[43mself_attn\u001b[49m\u001b[43m(\u001b[49m\n\u001b[1;32m    742\u001b[0m \u001b[43m    \u001b[49m\u001b[43mhidden_states\u001b[49m\u001b[38;5;241;43m=\u001b[39;49m\u001b[43mhidden_states\u001b[49m\u001b[43m,\u001b[49m\n\u001b[1;32m    743\u001b[0m \u001b[43m    \u001b[49m\u001b[43mattention_mask\u001b[49m\u001b[38;5;241;43m=\u001b[39;49m\u001b[43mattention_mask\u001b[49m\u001b[43m,\u001b[49m\n\u001b[1;32m    744\u001b[0m \u001b[43m    \u001b[49m\u001b[43mposition_ids\u001b[49m\u001b[38;5;241;43m=\u001b[39;49m\u001b[43mposition_ids\u001b[49m\u001b[43m,\u001b[49m\n\u001b[1;32m    745\u001b[0m \u001b[43m    \u001b[49m\u001b[43mpast_key_value\u001b[49m\u001b[38;5;241;43m=\u001b[39;49m\u001b[43mpast_key_value\u001b[49m\u001b[43m,\u001b[49m\n\u001b[1;32m    746\u001b[0m \u001b[43m    \u001b[49m\u001b[43moutput_attentions\u001b[49m\u001b[38;5;241;43m=\u001b[39;49m\u001b[43moutput_attentions\u001b[49m\u001b[43m,\u001b[49m\n\u001b[1;32m    747\u001b[0m \u001b[43m    \u001b[49m\u001b[43muse_cache\u001b[49m\u001b[38;5;241;43m=\u001b[39;49m\u001b[43muse_cache\u001b[49m\u001b[43m,\u001b[49m\n\u001b[1;32m    748\u001b[0m \u001b[43m    \u001b[49m\u001b[43mcache_position\u001b[49m\u001b[38;5;241;43m=\u001b[39;49m\u001b[43mcache_position\u001b[49m\u001b[43m,\u001b[49m\n\u001b[1;32m    749\u001b[0m \u001b[43m    \u001b[49m\u001b[38;5;241;43m*\u001b[39;49m\u001b[38;5;241;43m*\u001b[39;49m\u001b[43mkwargs\u001b[49m\u001b[43m,\u001b[49m\n\u001b[1;32m    750\u001b[0m \u001b[43m\u001b[49m\u001b[43m)\u001b[49m\n\u001b[1;32m    751\u001b[0m hidden_states \u001b[38;5;241m=\u001b[39m residual \u001b[38;5;241m+\u001b[39m hidden_states\n\u001b[1;32m    753\u001b[0m \u001b[38;5;66;03m# Fully Connected\u001b[39;00m\n",
      "File \u001b[0;32m~/lca-solvers/venv/lib/python3.11/site-packages/torch/nn/modules/module.py:1511\u001b[0m, in \u001b[0;36mModule._wrapped_call_impl\u001b[0;34m(self, *args, **kwargs)\u001b[0m\n\u001b[1;32m   1509\u001b[0m     \u001b[38;5;28;01mreturn\u001b[39;00m \u001b[38;5;28mself\u001b[39m\u001b[38;5;241m.\u001b[39m_compiled_call_impl(\u001b[38;5;241m*\u001b[39margs, \u001b[38;5;241m*\u001b[39m\u001b[38;5;241m*\u001b[39mkwargs)  \u001b[38;5;66;03m# type: ignore[misc]\u001b[39;00m\n\u001b[1;32m   1510\u001b[0m \u001b[38;5;28;01melse\u001b[39;00m:\n\u001b[0;32m-> 1511\u001b[0m     \u001b[38;5;28;01mreturn\u001b[39;00m \u001b[38;5;28;43mself\u001b[39;49m\u001b[38;5;241;43m.\u001b[39;49m\u001b[43m_call_impl\u001b[49m\u001b[43m(\u001b[49m\u001b[38;5;241;43m*\u001b[39;49m\u001b[43margs\u001b[49m\u001b[43m,\u001b[49m\u001b[43m \u001b[49m\u001b[38;5;241;43m*\u001b[39;49m\u001b[38;5;241;43m*\u001b[39;49m\u001b[43mkwargs\u001b[49m\u001b[43m)\u001b[49m\n",
      "File \u001b[0;32m~/lca-solvers/venv/lib/python3.11/site-packages/torch/nn/modules/module.py:1520\u001b[0m, in \u001b[0;36mModule._call_impl\u001b[0;34m(self, *args, **kwargs)\u001b[0m\n\u001b[1;32m   1515\u001b[0m \u001b[38;5;66;03m# If we don't have any hooks, we want to skip the rest of the logic in\u001b[39;00m\n\u001b[1;32m   1516\u001b[0m \u001b[38;5;66;03m# this function, and just call forward.\u001b[39;00m\n\u001b[1;32m   1517\u001b[0m \u001b[38;5;28;01mif\u001b[39;00m \u001b[38;5;129;01mnot\u001b[39;00m (\u001b[38;5;28mself\u001b[39m\u001b[38;5;241m.\u001b[39m_backward_hooks \u001b[38;5;129;01mor\u001b[39;00m \u001b[38;5;28mself\u001b[39m\u001b[38;5;241m.\u001b[39m_backward_pre_hooks \u001b[38;5;129;01mor\u001b[39;00m \u001b[38;5;28mself\u001b[39m\u001b[38;5;241m.\u001b[39m_forward_hooks \u001b[38;5;129;01mor\u001b[39;00m \u001b[38;5;28mself\u001b[39m\u001b[38;5;241m.\u001b[39m_forward_pre_hooks\n\u001b[1;32m   1518\u001b[0m         \u001b[38;5;129;01mor\u001b[39;00m _global_backward_pre_hooks \u001b[38;5;129;01mor\u001b[39;00m _global_backward_hooks\n\u001b[1;32m   1519\u001b[0m         \u001b[38;5;129;01mor\u001b[39;00m _global_forward_hooks \u001b[38;5;129;01mor\u001b[39;00m _global_forward_pre_hooks):\n\u001b[0;32m-> 1520\u001b[0m     \u001b[38;5;28;01mreturn\u001b[39;00m \u001b[43mforward_call\u001b[49m\u001b[43m(\u001b[49m\u001b[38;5;241;43m*\u001b[39;49m\u001b[43margs\u001b[49m\u001b[43m,\u001b[49m\u001b[43m \u001b[49m\u001b[38;5;241;43m*\u001b[39;49m\u001b[38;5;241;43m*\u001b[39;49m\u001b[43mkwargs\u001b[49m\u001b[43m)\u001b[49m\n\u001b[1;32m   1522\u001b[0m \u001b[38;5;28;01mtry\u001b[39;00m:\n\u001b[1;32m   1523\u001b[0m     result \u001b[38;5;241m=\u001b[39m \u001b[38;5;28;01mNone\u001b[39;00m\n",
      "File \u001b[0;32m~/lca-solvers/venv/lib/python3.11/site-packages/transformers/models/llama/modeling_llama.py:645\u001b[0m, in \u001b[0;36mLlamaSdpaAttention.forward\u001b[0;34m(self, hidden_states, attention_mask, position_ids, past_key_value, output_attentions, use_cache, cache_position)\u001b[0m\n\u001b[1;32m    642\u001b[0m value_states \u001b[38;5;241m=\u001b[39m value_states\u001b[38;5;241m.\u001b[39mview(bsz, q_len, \u001b[38;5;28mself\u001b[39m\u001b[38;5;241m.\u001b[39mnum_key_value_heads, \u001b[38;5;28mself\u001b[39m\u001b[38;5;241m.\u001b[39mhead_dim)\u001b[38;5;241m.\u001b[39mtranspose(\u001b[38;5;241m1\u001b[39m, \u001b[38;5;241m2\u001b[39m)\n\u001b[1;32m    644\u001b[0m cos, sin \u001b[38;5;241m=\u001b[39m \u001b[38;5;28mself\u001b[39m\u001b[38;5;241m.\u001b[39mrotary_emb(value_states, position_ids)\n\u001b[0;32m--> 645\u001b[0m query_states, key_states \u001b[38;5;241m=\u001b[39m \u001b[43mapply_rotary_pos_emb\u001b[49m\u001b[43m(\u001b[49m\u001b[43mquery_states\u001b[49m\u001b[43m,\u001b[49m\u001b[43m \u001b[49m\u001b[43mkey_states\u001b[49m\u001b[43m,\u001b[49m\u001b[43m \u001b[49m\u001b[43mcos\u001b[49m\u001b[43m,\u001b[49m\u001b[43m \u001b[49m\u001b[43msin\u001b[49m\u001b[43m)\u001b[49m\n\u001b[1;32m    647\u001b[0m \u001b[38;5;66;03m# In case static cache is used, it is an instance attribute.\u001b[39;00m\n\u001b[1;32m    648\u001b[0m past_key_value \u001b[38;5;241m=\u001b[39m \u001b[38;5;28mgetattr\u001b[39m(\u001b[38;5;28mself\u001b[39m, \u001b[38;5;124m\"\u001b[39m\u001b[38;5;124mpast_key_value\u001b[39m\u001b[38;5;124m\"\u001b[39m, past_key_value)\n",
      "File \u001b[0;32m~/lca-solvers/venv/lib/python3.11/site-packages/transformers/models/llama/modeling_llama.py:206\u001b[0m, in \u001b[0;36mapply_rotary_pos_emb\u001b[0;34m(q, k, cos, sin, position_ids, unsqueeze_dim)\u001b[0m\n\u001b[1;32m    204\u001b[0m cos \u001b[38;5;241m=\u001b[39m cos\u001b[38;5;241m.\u001b[39munsqueeze(unsqueeze_dim)\n\u001b[1;32m    205\u001b[0m sin \u001b[38;5;241m=\u001b[39m sin\u001b[38;5;241m.\u001b[39munsqueeze(unsqueeze_dim)\n\u001b[0;32m--> 206\u001b[0m q_embed \u001b[38;5;241m=\u001b[39m (q \u001b[38;5;241m*\u001b[39m cos) \u001b[38;5;241m+\u001b[39m (\u001b[43mrotate_half\u001b[49m\u001b[43m(\u001b[49m\u001b[43mq\u001b[49m\u001b[43m)\u001b[49m \u001b[38;5;241m*\u001b[39m sin)\n\u001b[1;32m    207\u001b[0m k_embed \u001b[38;5;241m=\u001b[39m (k \u001b[38;5;241m*\u001b[39m cos) \u001b[38;5;241m+\u001b[39m (rotate_half(k) \u001b[38;5;241m*\u001b[39m sin)\n\u001b[1;32m    208\u001b[0m \u001b[38;5;28;01mreturn\u001b[39;00m q_embed, k_embed\n",
      "File \u001b[0;32m~/lca-solvers/venv/lib/python3.11/site-packages/transformers/models/llama/modeling_llama.py:177\u001b[0m, in \u001b[0;36mrotate_half\u001b[0;34m(x)\u001b[0m\n\u001b[1;32m    173\u001b[0m         cos, sin \u001b[38;5;241m=\u001b[39m \u001b[38;5;28msuper\u001b[39m()\u001b[38;5;241m.\u001b[39mforward(x, position_ids)\n\u001b[1;32m    174\u001b[0m         \u001b[38;5;28;01mreturn\u001b[39;00m cos, sin\n\u001b[0;32m--> 177\u001b[0m \u001b[38;5;28;01mdef\u001b[39;00m \u001b[38;5;21mrotate_half\u001b[39m(x):\n\u001b[1;32m    178\u001b[0m \u001b[38;5;250m    \u001b[39m\u001b[38;5;124;03m\"\"\"Rotates half the hidden dims of the input.\"\"\"\u001b[39;00m\n\u001b[1;32m    179\u001b[0m     x1 \u001b[38;5;241m=\u001b[39m x[\u001b[38;5;241m.\u001b[39m\u001b[38;5;241m.\u001b[39m\u001b[38;5;241m.\u001b[39m, : x\u001b[38;5;241m.\u001b[39mshape[\u001b[38;5;241m-\u001b[39m\u001b[38;5;241m1\u001b[39m] \u001b[38;5;241m/\u001b[39m\u001b[38;5;241m/\u001b[39m \u001b[38;5;241m2\u001b[39m]\n",
      "\u001b[0;31mKeyboardInterrupt\u001b[0m: "
     ]
    }
   ],
   "source": [
    "for tf in range(1, 16):\n",
    "    get_val_loss(model_lora, token_factor=tf, true_completion_lens=true_completion_lens)"
   ]
  },
  {
   "cell_type": "code",
   "execution_count": 24,
   "id": "0228b48b-4745-4546-af28-001e3c2ab824",
   "metadata": {},
   "outputs": [
    {
     "data": {
      "text/plain": [
       "1024"
      ]
     },
     "execution_count": 24,
     "metadata": {},
     "output_type": "execute_result"
    }
   ],
   "source": [
    "2 ** 4 * 64 "
   ]
  },
  {
   "cell_type": "code",
   "execution_count": 25,
   "id": "ad38df1b-cafb-4bc4-89a9-4645dc36be88",
   "metadata": {},
   "outputs": [
    {
     "data": {
      "image/png": "[encoded data removed]",
      "text/plain": [
       "<Figure size 1000x1000 with 2 Axes>"
      ]
     },
     "metadata": {},
     "output_type": "display_data"
    },
    {
     "name": "stdout",
     "output_type": "stream",
     "text": [
      "Plotted: 2561 steps, Val Size is 128\n",
      "Token Factor: 2, Loss: 0.8975, \n"
     ]
    },
    {
     "name": "stderr",
     "output_type": "stream",
     "text": [
      "IOPub message rate exceeded.\n",
      "The Jupyter server will temporarily stop sending output\n",
      "to the client in order to avoid crashing it.\n",
      "To change this limit, set the config variable\n",
      "`--ServerApp.iopub_msg_rate_limit`.\n",
      "\n",
      "Current values:\n",
      "ServerApp.iopub_msg_rate_limit=1000.0 (msgs/sec)\n",
      "ServerApp.rate_limit_window=3.0 (secs)\n",
      "\n"
     ]
    }
   ],
   "source": [
    "torch.cuda.empty_cache()\n",
    "total_whole_input_loss = 0\n",
    "total_completion_loss = 0\n",
    "total_tokens = 0\n",
    "total_completion_tokens = 0\n",
    "train_losses_whole_input = []\n",
    "curr_train_loss_whole_input = []\n",
    "train_losses_completion = []\n",
    "curr_train_loss_completion = []\n",
    "\n",
    "val_losses_whole_input = list()\n",
    "val_losses_completion = list()\n",
    "\n",
    "\n",
    "\n",
    "num_epochs = 5\n",
    "for ep in range(num_epochs):\n",
    "    ACCUM_STEPS_NUM = 64 * 2**(num_epochs-ep-1)\n",
    "    loader = DataLoader(torch_dataset, batch_size=1, shuffle=True)\n",
    "    \n",
    "    new_loader = list()\n",
    "    for idx, hf_dp in enumerate(tqdm(loader)):\n",
    "        model_lora.train()\n",
    "        # torch.cuda.empty_cache()\n",
    "        # if idx > 20:\n",
    "        #     break\n",
    "        new_loader.append(hf_dp)\n",
    "        dp = DatapointComposed.from_hf_datapoint(hf_dp)\n",
    "        _is_oom = True\n",
    "        seq_len = 2048 # CONTEXT_MAX_LEN_TOKENS\n",
    "        context_ratio = 0.75\n",
    "\n",
    "        tfg, clg = random.Random(), random.Random()\n",
    "        tfg.seed(111)\n",
    "        clg.seed(123)\n",
    "        token_factor = tfg.randint(5, 15)\n",
    "        \n",
    "        completion_len = clg.randint(256, 1024)\n",
    "        input_ids, context_len, completion_len = get_input_ids(\n",
    "            dp, tokenizer, \n",
    "            completion_len=completion_len, context_factor=token_factor,\n",
    "            max_seq_len=seq_len\n",
    "        )\n",
    "\n",
    "\n",
    "        # inputs, context_len, completion_len = compose_input_sequence(dp, int(seq_len * (1 + context_ratio)), tokenizer, context_ratio)\n",
    "        input_ids = input_ids.to(model_lora.device)\n",
    "        outputs = get_outputs(input_ids, context_len, completion_len, model_lora, token_factor=token_factor)\n",
    "    \n",
    "    \n",
    "        logits_size = outputs['logits'].size(-1)\n",
    "        loss_completion = criterion(outputs['logits'].view(-1, outputs['logits'].size(-1))[-completion_len:-1, :], input_ids.view(-1)[-completion_len+1:])\n",
    "        # print(context_input_len)\n",
    "        # print(loss.item())\n",
    "        \n",
    "        (loss_completion).backward()\n",
    "        # print(loss_completion.item())\n",
    "        detached_logits = outputs['logits'].detach()\n",
    "        \n",
    "        # for 0 output logit we have corresponding 1st input\n",
    "        loss_whole_input = loss_completion #criterion(detached_logits.view(-1, detached_logits.size(-1))[:-1, :], inputs['input_ids'].view(-1)[1:])\n",
    "            \n",
    "        if (idx+1) % ACCUM_STEPS_NUM ==0:\n",
    "            train_losses_whole_input.append(sum(curr_train_loss_whole_input)/len(curr_train_loss_whole_input))\n",
    "            train_losses_completion.append(sum(curr_train_loss_completion)/len(curr_train_loss_completion))\n",
    "            curr_train_loss_whole_input = []\n",
    "            curr_train_loss_completion=[]\n",
    "            for param in model_lora.parameters():\n",
    "                if param.requires_grad:\n",
    "                    if param.grad is not None:\n",
    "                        param.grad /= ACCUM_STEPS_NUM\n",
    "            \n",
    "            optimizer.step()\n",
    "            optimizer.zero_grad()\n",
    "    \n",
    "        if (idx) % (ACCUM_STEPS_NUM*10) == 0:\n",
    "            curr_val_loss_whole, curr_val_loss_completion, val_count, val_msg = get_val_loss(model_lora, token_factor=2)\n",
    "            while len(val_losses_completion) < len(train_losses_completion):\n",
    "                val_losses_completion.append(curr_val_loss_completion)\n",
    "            while len(val_losses_whole_input) < len(train_losses_whole_input):\n",
    "                val_losses_whole_input.append(curr_val_loss_whole)\n",
    "            if len(train_losses_whole_input) > 0:\n",
    "                live_plot(\n",
    "                    ema_smoothing(train_losses_whole_input), ema_smoothing(train_losses_completion),\n",
    "                    val_losses_whole_input, val_losses_completion,\n",
    "                )\n",
    "                print(f\"Plotted: {(idx+1)} steps, Val Size is {val_count}\")\n",
    "                print(val_msg)\n",
    "            \n",
    "        \n",
    "        curr_train_loss_whole_input.append(loss_whole_input.item())\n",
    "        curr_train_loss_completion.append(loss_completion.item())\n",
    "        total_whole_input_loss += loss_whole_input.item() * (input_ids.size(0)-1)  # Accumulate scaled loss\n",
    "        total_completion_loss += loss_completion.item() * (completion_len -1)  # Accumulate scaled loss\n",
    "        total_tokens += (input_ids).size(-1) - 1  # Count tokens processed\n",
    "        total_completion_tokens += completion_len - 1\n",
    "        # TODO validation\n",
    "\n",
    "\n",
    "avg_loss = total_whole_input_loss / total_tokens\n",
    "perplexity = math.exp(avg_loss)  # Calculate perplexity as exp of the average loss\n",
    "\n",
    "avg_completion_loss = total_completion_loss / total_completion_tokens\n",
    "perplexity = math.exp(avg_completion_loss)\n",
    "\n",
    "\n",
    "\n",
    "\n",
    "    "
   ]
  },
  {
   "cell_type": "code",
   "execution_count": null,
   "id": "c20c4a63-8035-41d1-8801-ec6bb674097d",
   "metadata": {},
   "outputs": [
    {
     "data": {
      "application/vnd.jupyter.widget-view+json": {
       "model_id": "5b96e10149d74d4587530d5c5887791d",
       "version_major": 2,
       "version_minor": 0
      },
      "text/plain": [
       "  0%|          | 0/128 [00:00<?, ?it/s]"
      ]
     },
     "metadata": {},
     "output_type": "display_data"
    },
    {
     "name": "stdout",
     "output_type": "stream",
     "text": [
      "Token Factor: 1, Loss: 0.9042,  input shape: torch.Size([1, 2048]), output shape: torch.Size([1, 2048, 32256])\n"
     ]
    },
    {
     "data": {
      "application/vnd.jupyter.widget-view+json": {
       "model_id": "17b4ee015c1446ce99d195a541d5d8e0",
       "version_major": 2,
       "version_minor": 0
      },
      "text/plain": [
       "  0%|          | 0/128 [00:00<?, ?it/s]"
      ]
     },
     "metadata": {},
     "output_type": "display_data"
    },
    {
     "name": "stdout",
     "output_type": "stream",
     "text": [
      "Token Factor: 2, Loss: 0.9446,  input shape: torch.Size([1, 3584]), output shape: torch.Size([1, 2048, 32256])\n"
     ]
    },
    {
     "data": {
      "application/vnd.jupyter.widget-view+json": {
       "model_id": "b3f3ef6ca3864c3ab0071c2d507ebace",
       "version_major": 2,
       "version_minor": 0
      },
      "text/plain": [
       "  0%|          | 0/128 [00:00<?, ?it/s]"
      ]
     },
     "metadata": {},
     "output_type": "display_data"
    },
    {
     "name": "stdout",
     "output_type": "stream",
     "text": [
      "Token Factor: 3, Loss: 0.9849,  input shape: torch.Size([1, 5120]), output shape: torch.Size([1, 2048, 32256])\n"
     ]
    },
    {
     "data": {
      "application/vnd.jupyter.widget-view+json": {
       "model_id": "c7b3e71adc0d4a9492b96e5e8ec5b4ab",
       "version_major": 2,
       "version_minor": 0
      },
      "text/plain": [
       "  0%|          | 0/128 [00:00<?, ?it/s]"
      ]
     },
     "metadata": {},
     "output_type": "display_data"
    },
    {
     "name": "stdout",
     "output_type": "stream",
     "text": [
      "Token Factor: 4, Loss: 1.0027,  input shape: torch.Size([1, 6656]), output shape: torch.Size([1, 2048, 32256])\n"
     ]
    },
    {
     "data": {
      "application/vnd.jupyter.widget-view+json": {
       "model_id": "aa5aa2bdcfdf484e83943435168b320c",
       "version_major": 2,
       "version_minor": 0
      },
      "text/plain": [
       "  0%|          | 0/128 [00:00<?, ?it/s]"
      ]
     },
     "metadata": {},
     "output_type": "display_data"
    },
    {
     "name": "stdout",
     "output_type": "stream",
     "text": [
      "Token Factor: 5, Loss: 1.0087,  input shape: torch.Size([1, 8192]), output shape: torch.Size([1, 2048, 32256])\n"
     ]
    },
    {
     "data": {
      "application/vnd.jupyter.widget-view+json": {
       "model_id": "9c642a9063a9483e94e4b365b2804983",
       "version_major": 2,
       "version_minor": 0
      },
      "text/plain": [
       "  0%|          | 0/128 [00:00<?, ?it/s]"
      ]
     },
     "metadata": {},
     "output_type": "display_data"
    },
    {
     "name": "stdout",
     "output_type": "stream",
     "text": [
      "Token Factor: 6, Loss: 1.0154,  input shape: torch.Size([1, 9728]), output shape: torch.Size([1, 2048, 32256])\n"
     ]
    },
    {
     "data": {
      "application/vnd.jupyter.widget-view+json": {
       "model_id": "aca93896ac0e4009b55a226149354c7c",
       "version_major": 2,
       "version_minor": 0
      },
      "text/plain": [
       "  0%|          | 0/128 [00:00<?, ?it/s]"
      ]
     },
     "metadata": {},
     "output_type": "display_data"
    },
    {
     "name": "stdout",
     "output_type": "stream",
     "text": [
      "Token Factor: 7, Loss: 1.0232,  input shape: torch.Size([1, 11264]), output shape: torch.Size([1, 2048, 32256])\n"
     ]
    },
    {
     "data": {
      "application/vnd.jupyter.widget-view+json": {
       "model_id": "36b40439528e4f7f85f673b727613781",
       "version_major": 2,
       "version_minor": 0
      },
      "text/plain": [
       "  0%|          | 0/128 [00:00<?, ?it/s]"
      ]
     },
     "metadata": {},
     "output_type": "display_data"
    },
    {
     "name": "stdout",
     "output_type": "stream",
     "text": [
      "Token Factor: 8, Loss: 1.0310,  input shape: torch.Size([1, 12800]), output shape: torch.Size([1, 2048, 32256])\n"
     ]
    },
    {
     "data": {
      "application/vnd.jupyter.widget-view+json": {
       "model_id": "852ef02d60904ff1a3031d7e6617b363",
       "version_major": 2,
       "version_minor": 0
      },
      "text/plain": [
       "  0%|          | 0/128 [00:00<?, ?it/s]"
      ]
     },
     "metadata": {},
     "output_type": "display_data"
    },
    {
     "name": "stdout",
     "output_type": "stream",
     "text": [
      "Token Factor: 9, Loss: 1.0417,  input shape: torch.Size([1, 14336]), output shape: torch.Size([1, 2048, 32256])\n"
     ]
    },
    {
     "data": {
      "application/vnd.jupyter.widget-view+json": {
       "model_id": "b06a0d64f137470ea6c2baf40556f0a5",
       "version_major": 2,
       "version_minor": 0
      },
      "text/plain": [
       "  0%|          | 0/128 [00:00<?, ?it/s]"
      ]
     },
     "metadata": {},
     "output_type": "display_data"
    },
    {
     "name": "stdout",
     "output_type": "stream",
     "text": [
      "Token Factor: 10, Loss: 1.0506,  input shape: torch.Size([1, 15872]), output shape: torch.Size([1, 2048, 32256])\n"
     ]
    },
    {
     "data": {
      "application/vnd.jupyter.widget-view+json": {
       "model_id": "6c9c454759494ab5bedbfaf334906065",
       "version_major": 2,
       "version_minor": 0
      },
      "text/plain": [
       "  0%|          | 0/128 [00:00<?, ?it/s]"
      ]
     },
     "metadata": {},
     "output_type": "display_data"
    },
    {
     "name": "stdout",
     "output_type": "stream",
     "text": [
      "Token Factor: 11, Loss: 1.0601,  input shape: torch.Size([1, 17408]), output shape: torch.Size([1, 2048, 32256])\n"
     ]
    },
    {
     "data": {
      "application/vnd.jupyter.widget-view+json": {
       "model_id": "098857c570a64a5e94fd2c292f26ff76",
       "version_major": 2,
       "version_minor": 0
      },
      "text/plain": [
       "  0%|          | 0/128 [00:00<?, ?it/s]"
      ]
     },
     "metadata": {},
     "output_type": "display_data"
    },
    {
     "name": "stdout",
     "output_type": "stream",
     "text": [
      "Token Factor: 12, Loss: 1.0675,  input shape: torch.Size([1, 18944]), output shape: torch.Size([1, 2048, 32256])\n"
     ]
    },
    {
     "data": {
      "application/vnd.jupyter.widget-view+json": {
       "model_id": "de7e0ac8047145659d456fe797ba6d31",
       "version_major": 2,
       "version_minor": 0
      },
      "text/plain": [
       "  0%|          | 0/128 [00:00<?, ?it/s]"
      ]
     },
     "metadata": {},
     "output_type": "display_data"
    },
    {
     "name": "stdout",
     "output_type": "stream",
     "text": [
      "Token Factor: 13, Loss: 1.0753,  input shape: torch.Size([1, 20480]), output shape: torch.Size([1, 2048, 32256])\n"
     ]
    },
    {
     "data": {
      "application/vnd.jupyter.widget-view+json": {
       "model_id": "f7dfc758d4c843ef946410186c6c9027",
       "version_major": 2,
       "version_minor": 0
      },
      "text/plain": [
       "  0%|          | 0/128 [00:00<?, ?it/s]"
      ]
     },
     "metadata": {},
     "output_type": "display_data"
    }
   ],
   "source": [
    "for tf in range(1, 16):\n",
    "    get_val_loss(model_lora, token_factor=tf, true_completion_lens=None)"
   ]
  },
  {
   "cell_type": "code",
   "execution_count": 65,
   "id": "e794699e-5cb8-4236-8265-989241e230b0",
   "metadata": {},
   "outputs": [
    {
     "data": {
      "application/vnd.jupyter.widget-view+json": {
       "model_id": "ef77df9ef0654934ab3cbc9f54b36889",
       "version_major": 2,
       "version_minor": 0
      },
      "text/plain": [
       "  0%|          | 0/128 [00:00<?, ?it/s]"
      ]
     },
     "metadata": {},
     "output_type": "display_data"
    },
    {
     "name": "stdout",
     "output_type": "stream",
     "text": [
      "Token Factor: 1, Loss: 0.7526,  input shape: torch.Size([1, 2048]), output shape: torch.Size([1, 2048, 32256])\n"
     ]
    },
    {
     "data": {
      "application/vnd.jupyter.widget-view+json": {
       "model_id": "5977f554e5454441b28c088d3a6cd1f9",
       "version_major": 2,
       "version_minor": 0
      },
      "text/plain": [
       "  0%|          | 0/128 [00:00<?, ?it/s]"
      ]
     },
     "metadata": {},
     "output_type": "display_data"
    },
    {
     "name": "stdout",
     "output_type": "stream",
     "text": [
      "Token Factor: 2, Loss: 0.8550,  input shape: torch.Size([1, 3584]), output shape: torch.Size([1, 2048, 32256])\n"
     ]
    },
    {
     "data": {
      "application/vnd.jupyter.widget-view+json": {
       "model_id": "59ed3669c78f4980b0cc200cffe92cac",
       "version_major": 2,
       "version_minor": 0
      },
      "text/plain": [
       "  0%|          | 0/128 [00:00<?, ?it/s]"
      ]
     },
     "metadata": {},
     "output_type": "display_data"
    },
    {
     "name": "stdout",
     "output_type": "stream",
     "text": [
      "Token Factor: 3, Loss: 0.8912,  input shape: torch.Size([1, 5120]), output shape: torch.Size([1, 2048, 32256])\n"
     ]
    },
    {
     "data": {
      "application/vnd.jupyter.widget-view+json": {
       "model_id": "cd1ad9eb55094dedab276568643c2dfe",
       "version_major": 2,
       "version_minor": 0
      },
      "text/plain": [
       "  0%|          | 0/128 [00:00<?, ?it/s]"
      ]
     },
     "metadata": {},
     "output_type": "display_data"
    },
    {
     "name": "stdout",
     "output_type": "stream",
     "text": [
      "Token Factor: 4, Loss: 0.9013,  input shape: torch.Size([1, 6656]), output shape: torch.Size([1, 2048, 32256])\n"
     ]
    },
    {
     "data": {
      "application/vnd.jupyter.widget-view+json": {
       "model_id": "e70f9ff905d4480c9cb32c4fc2ae275e",
       "version_major": 2,
       "version_minor": 0
      },
      "text/plain": [
       "  0%|          | 0/128 [00:00<?, ?it/s]"
      ]
     },
     "metadata": {},
     "output_type": "display_data"
    },
    {
     "name": "stdout",
     "output_type": "stream",
     "text": [
      "Token Factor: 5, Loss: 0.9242,  input shape: torch.Size([1, 8192]), output shape: torch.Size([1, 2048, 32256])\n"
     ]
    },
    {
     "data": {
      "application/vnd.jupyter.widget-view+json": {
       "model_id": "909d518c414f4686a82660db76a9b6b6",
       "version_major": 2,
       "version_minor": 0
      },
      "text/plain": [
       "  0%|          | 0/128 [00:00<?, ?it/s]"
      ]
     },
     "metadata": {},
     "output_type": "display_data"
    },
    {
     "name": "stdout",
     "output_type": "stream",
     "text": [
      "Token Factor: 6, Loss: 0.9426,  input shape: torch.Size([1, 9728]), output shape: torch.Size([1, 2048, 32256])\n"
     ]
    },
    {
     "data": {
      "application/vnd.jupyter.widget-view+json": {
       "model_id": "7b76d8116e1340e89c6fae82fe1ff3b7",
       "version_major": 2,
       "version_minor": 0
      },
      "text/plain": [
       "  0%|          | 0/128 [00:00<?, ?it/s]"
      ]
     },
     "metadata": {},
     "output_type": "display_data"
    },
    {
     "name": "stdout",
     "output_type": "stream",
     "text": [
      "Token Factor: 7, Loss: 0.9591,  input shape: torch.Size([1, 11264]), output shape: torch.Size([1, 2048, 32256])\n"
     ]
    },
    {
     "data": {
      "application/vnd.jupyter.widget-view+json": {
       "model_id": "7d8ecaf639834d03aab49f97ae6598ad",
       "version_major": 2,
       "version_minor": 0
      },
      "text/plain": [
       "  0%|          | 0/128 [00:00<?, ?it/s]"
      ]
     },
     "metadata": {},
     "output_type": "display_data"
    },
    {
     "name": "stdout",
     "output_type": "stream",
     "text": [
      "Token Factor: 8, Loss: 0.9726,  input shape: torch.Size([1, 12800]), output shape: torch.Size([1, 2048, 32256])\n"
     ]
    },
    {
     "data": {
      "application/vnd.jupyter.widget-view+json": {
       "model_id": "10b0c1ec59c34f34a7a9634e4f97a16b",
       "version_major": 2,
       "version_minor": 0
      },
      "text/plain": [
       "  0%|          | 0/128 [00:00<?, ?it/s]"
      ]
     },
     "metadata": {},
     "output_type": "display_data"
    },
    {
     "name": "stdout",
     "output_type": "stream",
     "text": [
      "Token Factor: 9, Loss: 0.9900,  input shape: torch.Size([1, 14336]), output shape: torch.Size([1, 2048, 32256])\n"
     ]
    },
    {
     "data": {
      "application/vnd.jupyter.widget-view+json": {
       "model_id": "f2c5481e613e4afeb524a29a6fd9c3f4",
       "version_major": 2,
       "version_minor": 0
      },
      "text/plain": [
       "  0%|          | 0/128 [00:00<?, ?it/s]"
      ]
     },
     "metadata": {},
     "output_type": "display_data"
    },
    {
     "name": "stdout",
     "output_type": "stream",
     "text": [
      "Token Factor: 10, Loss: 1.0061,  input shape: torch.Size([1, 15872]), output shape: torch.Size([1, 2048, 32256])\n"
     ]
    },
    {
     "data": {
      "application/vnd.jupyter.widget-view+json": {
       "model_id": "70d3087f027a4a2488c9206f227b6dc6",
       "version_major": 2,
       "version_minor": 0
      },
      "text/plain": [
       "  0%|          | 0/128 [00:00<?, ?it/s]"
      ]
     },
     "metadata": {},
     "output_type": "display_data"
    },
    {
     "name": "stdout",
     "output_type": "stream",
     "text": [
      "Token Factor: 11, Loss: 1.0330,  input shape: torch.Size([1, 17408]), output shape: torch.Size([1, 2048, 32256])\n"
     ]
    },
    {
     "data": {
      "application/vnd.jupyter.widget-view+json": {
       "model_id": "8774d62c079d4d7daec3335002368bfe",
       "version_major": 2,
       "version_minor": 0
      },
      "text/plain": [
       "  0%|          | 0/128 [00:00<?, ?it/s]"
      ]
     },
     "metadata": {},
     "output_type": "display_data"
    },
    {
     "name": "stdout",
     "output_type": "stream",
     "text": [
      "Token Factor: 12, Loss: 1.0639,  input shape: torch.Size([1, 18944]), output shape: torch.Size([1, 2048, 32256])\n"
     ]
    },
    {
     "data": {
      "application/vnd.jupyter.widget-view+json": {
       "model_id": "9f2f6629b09642ac9adb38a3d1d1af70",
       "version_major": 2,
       "version_minor": 0
      },
      "text/plain": [
       "  0%|          | 0/128 [00:00<?, ?it/s]"
      ]
     },
     "metadata": {},
     "output_type": "display_data"
    },
    {
     "name": "stdout",
     "output_type": "stream",
     "text": [
      "Token Factor: 13, Loss: 1.0964,  input shape: torch.Size([1, 20480]), output shape: torch.Size([1, 2048, 32256])\n"
     ]
    },
    {
     "data": {
      "application/vnd.jupyter.widget-view+json": {
       "model_id": "a08f4b24b5454da9be9ac8fbd6f5f3af",
       "version_major": 2,
       "version_minor": 0
      },
      "text/plain": [
       "  0%|          | 0/128 [00:00<?, ?it/s]"
      ]
     },
     "metadata": {},
     "output_type": "display_data"
    },
    {
     "ename": "KeyboardInterrupt",
     "evalue": "",
     "output_type": "error",
     "traceback": [
      "\u001b[0;31m---------------------------------------------------------------------------\u001b[0m",
      "\u001b[0;31mKeyboardInterrupt\u001b[0m                         Traceback (most recent call last)",
      "Cell \u001b[0;32mIn[65], line 2\u001b[0m\n\u001b[1;32m      1\u001b[0m \u001b[38;5;28;01mfor\u001b[39;00m tf \u001b[38;5;129;01min\u001b[39;00m \u001b[38;5;28mrange\u001b[39m(\u001b[38;5;241m1\u001b[39m, \u001b[38;5;241m16\u001b[39m):\n\u001b[0;32m----> 2\u001b[0m     \u001b[43mget_val_loss\u001b[49m\u001b[43m(\u001b[49m\u001b[43mmodel_lora\u001b[49m\u001b[43m,\u001b[49m\u001b[43m \u001b[49m\u001b[43mtoken_factor\u001b[49m\u001b[38;5;241;43m=\u001b[39;49m\u001b[43mtf\u001b[49m\u001b[43m,\u001b[49m\u001b[43m \u001b[49m\u001b[43mtrue_completion_lens\u001b[49m\u001b[38;5;241;43m=\u001b[39;49m\u001b[43mtrue_completion_lens\u001b[49m\u001b[43m)\u001b[49m\n",
      "Cell \u001b[0;32mIn[62], line 13\u001b[0m, in \u001b[0;36mget_val_loss\u001b[0;34m(model, val_loader, token_factor, true_completion_lens)\u001b[0m\n\u001b[1;32m     11\u001b[0m context_ratio \u001b[38;5;241m=\u001b[39m \u001b[38;5;241m0.75\u001b[39m\n\u001b[1;32m     12\u001b[0m completion_len \u001b[38;5;241m=\u001b[39m \u001b[38;5;241m512\u001b[39m\n\u001b[0;32m---> 13\u001b[0m input_ids, context_len, completion_len \u001b[38;5;241m=\u001b[39m \u001b[43mget_input_ids\u001b[49m\u001b[43m(\u001b[49m\u001b[43mdp\u001b[49m\u001b[43m,\u001b[49m\u001b[43m \u001b[49m\u001b[43mtokenizer\u001b[49m\u001b[43m,\u001b[49m\u001b[43m \u001b[49m\u001b[43mcompletion_len\u001b[49m\u001b[38;5;241;43m=\u001b[39;49m\u001b[43mcompletion_len\u001b[49m\u001b[43m,\u001b[49m\u001b[43m \u001b[49m\u001b[43mcontext_factor\u001b[49m\u001b[38;5;241;43m=\u001b[39;49m\u001b[43mtoken_factor\u001b[49m\u001b[43m)\u001b[49m\n\u001b[1;32m     14\u001b[0m \u001b[38;5;66;03m# true_completion_len = int(seq_len*(1-context_ratio))\u001b[39;00m\n\u001b[1;32m     15\u001b[0m \u001b[38;5;66;03m# inputs, context_len, completion_len = compose_input_sequence(dp, int(seq_len * (1 + (token_factor-1)*context_ratio)), tokenizer, context_ratio)\u001b[39;00m\n\u001b[1;32m     16\u001b[0m \u001b[38;5;66;03m# if inputs is None:\u001b[39;00m\n\u001b[0;32m   (...)\u001b[0m\n\u001b[1;32m     22\u001b[0m \u001b[38;5;66;03m# inputs['input_ids'] = inputs['input_ids'][:, :(context_len + true_completion_len)] \u001b[39;00m\n\u001b[1;32m     23\u001b[0m     \u001b[38;5;66;03m# input_ids = input_ids[:, :(context_len + completion_len)]\u001b[39;00m\n\u001b[1;32m     24\u001b[0m count \u001b[38;5;241m+\u001b[39m\u001b[38;5;241m=\u001b[39m \u001b[38;5;241m1\u001b[39m\n",
      "Cell \u001b[0;32mIn[60], line 6\u001b[0m, in \u001b[0;36mget_input_ids\u001b[0;34m(dp, tokenizer, completion_len, context_factor, max_seq_len)\u001b[0m\n\u001b[1;32m      4\u001b[0m context_len \u001b[38;5;241m=\u001b[39m (max_seq_len\u001b[38;5;241m-\u001b[39mcompletion_len) \u001b[38;5;241m*\u001b[39m context_factor\n\u001b[1;32m      5\u001b[0m context \u001b[38;5;241m=\u001b[39m context[\u001b[38;5;241m-\u001b[39m(context_len\u001b[38;5;241m*\u001b[39m\u001b[38;5;241m10\u001b[39m):]\n\u001b[0;32m----> 6\u001b[0m context_tokens \u001b[38;5;241m=\u001b[39m \u001b[43mtokenizer\u001b[49m\u001b[43m(\u001b[49m\u001b[43mcontext\u001b[49m\u001b[43m,\u001b[49m\u001b[43m \u001b[49m\u001b[43mreturn_tensors\u001b[49m\u001b[38;5;241;43m=\u001b[39;49m\u001b[38;5;124;43m'\u001b[39;49m\u001b[38;5;124;43mpt\u001b[39;49m\u001b[38;5;124;43m'\u001b[39;49m\u001b[43m)\u001b[49m[\u001b[38;5;124m'\u001b[39m\u001b[38;5;124minput_ids\u001b[39m\u001b[38;5;124m'\u001b[39m]\n\u001b[1;32m      7\u001b[0m context_tokens \u001b[38;5;241m=\u001b[39m context_tokens[\u001b[38;5;241m.\u001b[39m\u001b[38;5;241m.\u001b[39m\u001b[38;5;241m.\u001b[39m, \u001b[38;5;241m-\u001b[39mcontext_len:]\n\u001b[1;32m      8\u001b[0m completion_tokens \u001b[38;5;241m=\u001b[39m tokenizer(completion, return_tensors\u001b[38;5;241m=\u001b[39m\u001b[38;5;124m'\u001b[39m\u001b[38;5;124mpt\u001b[39m\u001b[38;5;124m'\u001b[39m)[\u001b[38;5;124m'\u001b[39m\u001b[38;5;124minput_ids\u001b[39m\u001b[38;5;124m'\u001b[39m]\n",
      "File \u001b[0;32m~/lca-solvers/venv/lib/python3.11/site-packages/transformers/tokenization_utils_base.py:2858\u001b[0m, in \u001b[0;36mPreTrainedTokenizerBase.__call__\u001b[0;34m(self, text, text_pair, text_target, text_pair_target, add_special_tokens, padding, truncation, max_length, stride, is_split_into_words, pad_to_multiple_of, return_tensors, return_token_type_ids, return_attention_mask, return_overflowing_tokens, return_special_tokens_mask, return_offsets_mapping, return_length, verbose, **kwargs)\u001b[0m\n\u001b[1;32m   2856\u001b[0m     \u001b[38;5;28;01mif\u001b[39;00m \u001b[38;5;129;01mnot\u001b[39;00m \u001b[38;5;28mself\u001b[39m\u001b[38;5;241m.\u001b[39m_in_target_context_manager:\n\u001b[1;32m   2857\u001b[0m         \u001b[38;5;28mself\u001b[39m\u001b[38;5;241m.\u001b[39m_switch_to_input_mode()\n\u001b[0;32m-> 2858\u001b[0m     encodings \u001b[38;5;241m=\u001b[39m \u001b[38;5;28;43mself\u001b[39;49m\u001b[38;5;241;43m.\u001b[39;49m\u001b[43m_call_one\u001b[49m\u001b[43m(\u001b[49m\u001b[43mtext\u001b[49m\u001b[38;5;241;43m=\u001b[39;49m\u001b[43mtext\u001b[49m\u001b[43m,\u001b[49m\u001b[43m \u001b[49m\u001b[43mtext_pair\u001b[49m\u001b[38;5;241;43m=\u001b[39;49m\u001b[43mtext_pair\u001b[49m\u001b[43m,\u001b[49m\u001b[43m \u001b[49m\u001b[38;5;241;43m*\u001b[39;49m\u001b[38;5;241;43m*\u001b[39;49m\u001b[43mall_kwargs\u001b[49m\u001b[43m)\u001b[49m\n\u001b[1;32m   2859\u001b[0m \u001b[38;5;28;01mif\u001b[39;00m text_target \u001b[38;5;129;01mis\u001b[39;00m \u001b[38;5;129;01mnot\u001b[39;00m \u001b[38;5;28;01mNone\u001b[39;00m:\n\u001b[1;32m   2860\u001b[0m     \u001b[38;5;28mself\u001b[39m\u001b[38;5;241m.\u001b[39m_switch_to_target_mode()\n",
      "File \u001b[0;32m~/lca-solvers/venv/lib/python3.11/site-packages/transformers/tokenization_utils_base.py:2964\u001b[0m, in \u001b[0;36mPreTrainedTokenizerBase._call_one\u001b[0;34m(self, text, text_pair, add_special_tokens, padding, truncation, max_length, stride, is_split_into_words, pad_to_multiple_of, return_tensors, return_token_type_ids, return_attention_mask, return_overflowing_tokens, return_special_tokens_mask, return_offsets_mapping, return_length, verbose, **kwargs)\u001b[0m\n\u001b[1;32m   2944\u001b[0m     \u001b[38;5;28;01mreturn\u001b[39;00m \u001b[38;5;28mself\u001b[39m\u001b[38;5;241m.\u001b[39mbatch_encode_plus(\n\u001b[1;32m   2945\u001b[0m         batch_text_or_text_pairs\u001b[38;5;241m=\u001b[39mbatch_text_or_text_pairs,\n\u001b[1;32m   2946\u001b[0m         add_special_tokens\u001b[38;5;241m=\u001b[39madd_special_tokens,\n\u001b[0;32m   (...)\u001b[0m\n\u001b[1;32m   2961\u001b[0m         \u001b[38;5;241m*\u001b[39m\u001b[38;5;241m*\u001b[39mkwargs,\n\u001b[1;32m   2962\u001b[0m     )\n\u001b[1;32m   2963\u001b[0m \u001b[38;5;28;01melse\u001b[39;00m:\n\u001b[0;32m-> 2964\u001b[0m     \u001b[38;5;28;01mreturn\u001b[39;00m \u001b[38;5;28;43mself\u001b[39;49m\u001b[38;5;241;43m.\u001b[39;49m\u001b[43mencode_plus\u001b[49m\u001b[43m(\u001b[49m\n\u001b[1;32m   2965\u001b[0m \u001b[43m        \u001b[49m\u001b[43mtext\u001b[49m\u001b[38;5;241;43m=\u001b[39;49m\u001b[43mtext\u001b[49m\u001b[43m,\u001b[49m\n\u001b[1;32m   2966\u001b[0m \u001b[43m        \u001b[49m\u001b[43mtext_pair\u001b[49m\u001b[38;5;241;43m=\u001b[39;49m\u001b[43mtext_pair\u001b[49m\u001b[43m,\u001b[49m\n\u001b[1;32m   2967\u001b[0m \u001b[43m        \u001b[49m\u001b[43madd_special_tokens\u001b[49m\u001b[38;5;241;43m=\u001b[39;49m\u001b[43madd_special_tokens\u001b[49m\u001b[43m,\u001b[49m\n\u001b[1;32m   2968\u001b[0m \u001b[43m        \u001b[49m\u001b[43mpadding\u001b[49m\u001b[38;5;241;43m=\u001b[39;49m\u001b[43mpadding\u001b[49m\u001b[43m,\u001b[49m\n\u001b[1;32m   2969\u001b[0m \u001b[43m        \u001b[49m\u001b[43mtruncation\u001b[49m\u001b[38;5;241;43m=\u001b[39;49m\u001b[43mtruncation\u001b[49m\u001b[43m,\u001b[49m\n\u001b[1;32m   2970\u001b[0m \u001b[43m        \u001b[49m\u001b[43mmax_length\u001b[49m\u001b[38;5;241;43m=\u001b[39;49m\u001b[43mmax_length\u001b[49m\u001b[43m,\u001b[49m\n\u001b[1;32m   2971\u001b[0m \u001b[43m        \u001b[49m\u001b[43mstride\u001b[49m\u001b[38;5;241;43m=\u001b[39;49m\u001b[43mstride\u001b[49m\u001b[43m,\u001b[49m\n\u001b[1;32m   2972\u001b[0m \u001b[43m        \u001b[49m\u001b[43mis_split_into_words\u001b[49m\u001b[38;5;241;43m=\u001b[39;49m\u001b[43mis_split_into_words\u001b[49m\u001b[43m,\u001b[49m\n\u001b[1;32m   2973\u001b[0m \u001b[43m        \u001b[49m\u001b[43mpad_to_multiple_of\u001b[49m\u001b[38;5;241;43m=\u001b[39;49m\u001b[43mpad_to_multiple_of\u001b[49m\u001b[43m,\u001b[49m\n\u001b[1;32m   2974\u001b[0m \u001b[43m        \u001b[49m\u001b[43mreturn_tensors\u001b[49m\u001b[38;5;241;43m=\u001b[39;49m\u001b[43mreturn_tensors\u001b[49m\u001b[43m,\u001b[49m\n\u001b[1;32m   2975\u001b[0m \u001b[43m        \u001b[49m\u001b[43mreturn_token_type_ids\u001b[49m\u001b[38;5;241;43m=\u001b[39;49m\u001b[43mreturn_token_type_ids\u001b[49m\u001b[43m,\u001b[49m\n\u001b[1;32m   2976\u001b[0m \u001b[43m        \u001b[49m\u001b[43mreturn_attention_mask\u001b[49m\u001b[38;5;241;43m=\u001b[39;49m\u001b[43mreturn_attention_mask\u001b[49m\u001b[43m,\u001b[49m\n\u001b[1;32m   2977\u001b[0m \u001b[43m        \u001b[49m\u001b[43mreturn_overflowing_tokens\u001b[49m\u001b[38;5;241;43m=\u001b[39;49m\u001b[43mreturn_overflowing_tokens\u001b[49m\u001b[43m,\u001b[49m\n\u001b[1;32m   2978\u001b[0m \u001b[43m        \u001b[49m\u001b[43mreturn_special_tokens_mask\u001b[49m\u001b[38;5;241;43m=\u001b[39;49m\u001b[43mreturn_special_tokens_mask\u001b[49m\u001b[43m,\u001b[49m\n\u001b[1;32m   2979\u001b[0m \u001b[43m        \u001b[49m\u001b[43mreturn_offsets_mapping\u001b[49m\u001b[38;5;241;43m=\u001b[39;49m\u001b[43mreturn_offsets_mapping\u001b[49m\u001b[43m,\u001b[49m\n\u001b[1;32m   2980\u001b[0m \u001b[43m        \u001b[49m\u001b[43mreturn_length\u001b[49m\u001b[38;5;241;43m=\u001b[39;49m\u001b[43mreturn_length\u001b[49m\u001b[43m,\u001b[49m\n\u001b[1;32m   2981\u001b[0m \u001b[43m        \u001b[49m\u001b[43mverbose\u001b[49m\u001b[38;5;241;43m=\u001b[39;49m\u001b[43mverbose\u001b[49m\u001b[43m,\u001b[49m\n\u001b[1;32m   2982\u001b[0m \u001b[43m        \u001b[49m\u001b[38;5;241;43m*\u001b[39;49m\u001b[38;5;241;43m*\u001b[39;49m\u001b[43mkwargs\u001b[49m\u001b[43m,\u001b[49m\n\u001b[1;32m   2983\u001b[0m \u001b[43m    \u001b[49m\u001b[43m)\u001b[49m\n",
      "File \u001b[0;32m~/lca-solvers/venv/lib/python3.11/site-packages/transformers/tokenization_utils_base.py:3037\u001b[0m, in \u001b[0;36mPreTrainedTokenizerBase.encode_plus\u001b[0;34m(self, text, text_pair, add_special_tokens, padding, truncation, max_length, stride, is_split_into_words, pad_to_multiple_of, return_tensors, return_token_type_ids, return_attention_mask, return_overflowing_tokens, return_special_tokens_mask, return_offsets_mapping, return_length, verbose, **kwargs)\u001b[0m\n\u001b[1;32m   3027\u001b[0m \u001b[38;5;66;03m# Backward compatibility for 'truncation_strategy', 'pad_to_max_length'\u001b[39;00m\n\u001b[1;32m   3028\u001b[0m padding_strategy, truncation_strategy, max_length, kwargs \u001b[38;5;241m=\u001b[39m \u001b[38;5;28mself\u001b[39m\u001b[38;5;241m.\u001b[39m_get_padding_truncation_strategies(\n\u001b[1;32m   3029\u001b[0m     padding\u001b[38;5;241m=\u001b[39mpadding,\n\u001b[1;32m   3030\u001b[0m     truncation\u001b[38;5;241m=\u001b[39mtruncation,\n\u001b[0;32m   (...)\u001b[0m\n\u001b[1;32m   3034\u001b[0m     \u001b[38;5;241m*\u001b[39m\u001b[38;5;241m*\u001b[39mkwargs,\n\u001b[1;32m   3035\u001b[0m )\n\u001b[0;32m-> 3037\u001b[0m \u001b[38;5;28;01mreturn\u001b[39;00m \u001b[38;5;28;43mself\u001b[39;49m\u001b[38;5;241;43m.\u001b[39;49m\u001b[43m_encode_plus\u001b[49m\u001b[43m(\u001b[49m\n\u001b[1;32m   3038\u001b[0m \u001b[43m    \u001b[49m\u001b[43mtext\u001b[49m\u001b[38;5;241;43m=\u001b[39;49m\u001b[43mtext\u001b[49m\u001b[43m,\u001b[49m\n\u001b[1;32m   3039\u001b[0m \u001b[43m    \u001b[49m\u001b[43mtext_pair\u001b[49m\u001b[38;5;241;43m=\u001b[39;49m\u001b[43mtext_pair\u001b[49m\u001b[43m,\u001b[49m\n\u001b[1;32m   3040\u001b[0m \u001b[43m    \u001b[49m\u001b[43madd_special_tokens\u001b[49m\u001b[38;5;241;43m=\u001b[39;49m\u001b[43madd_special_tokens\u001b[49m\u001b[43m,\u001b[49m\n\u001b[1;32m   3041\u001b[0m \u001b[43m    \u001b[49m\u001b[43mpadding_strategy\u001b[49m\u001b[38;5;241;43m=\u001b[39;49m\u001b[43mpadding_strategy\u001b[49m\u001b[43m,\u001b[49m\n\u001b[1;32m   3042\u001b[0m \u001b[43m    \u001b[49m\u001b[43mtruncation_strategy\u001b[49m\u001b[38;5;241;43m=\u001b[39;49m\u001b[43mtruncation_strategy\u001b[49m\u001b[43m,\u001b[49m\n\u001b[1;32m   3043\u001b[0m \u001b[43m    \u001b[49m\u001b[43mmax_length\u001b[49m\u001b[38;5;241;43m=\u001b[39;49m\u001b[43mmax_length\u001b[49m\u001b[43m,\u001b[49m\n\u001b[1;32m   3044\u001b[0m \u001b[43m    \u001b[49m\u001b[43mstride\u001b[49m\u001b[38;5;241;43m=\u001b[39;49m\u001b[43mstride\u001b[49m\u001b[43m,\u001b[49m\n\u001b[1;32m   3045\u001b[0m \u001b[43m    \u001b[49m\u001b[43mis_split_into_words\u001b[49m\u001b[38;5;241;43m=\u001b[39;49m\u001b[43mis_split_into_words\u001b[49m\u001b[43m,\u001b[49m\n\u001b[1;32m   3046\u001b[0m \u001b[43m    \u001b[49m\u001b[43mpad_to_multiple_of\u001b[49m\u001b[38;5;241;43m=\u001b[39;49m\u001b[43mpad_to_multiple_of\u001b[49m\u001b[43m,\u001b[49m\n\u001b[1;32m   3047\u001b[0m \u001b[43m    \u001b[49m\u001b[43mreturn_tensors\u001b[49m\u001b[38;5;241;43m=\u001b[39;49m\u001b[43mreturn_tensors\u001b[49m\u001b[43m,\u001b[49m\n\u001b[1;32m   3048\u001b[0m \u001b[43m    \u001b[49m\u001b[43mreturn_token_type_ids\u001b[49m\u001b[38;5;241;43m=\u001b[39;49m\u001b[43mreturn_token_type_ids\u001b[49m\u001b[43m,\u001b[49m\n\u001b[1;32m   3049\u001b[0m \u001b[43m    \u001b[49m\u001b[43mreturn_attention_mask\u001b[49m\u001b[38;5;241;43m=\u001b[39;49m\u001b[43mreturn_attention_mask\u001b[49m\u001b[43m,\u001b[49m\n\u001b[1;32m   3050\u001b[0m \u001b[43m    \u001b[49m\u001b[43mreturn_overflowing_tokens\u001b[49m\u001b[38;5;241;43m=\u001b[39;49m\u001b[43mreturn_overflowing_tokens\u001b[49m\u001b[43m,\u001b[49m\n\u001b[1;32m   3051\u001b[0m \u001b[43m    \u001b[49m\u001b[43mreturn_special_tokens_mask\u001b[49m\u001b[38;5;241;43m=\u001b[39;49m\u001b[43mreturn_special_tokens_mask\u001b[49m\u001b[43m,\u001b[49m\n\u001b[1;32m   3052\u001b[0m \u001b[43m    \u001b[49m\u001b[43mreturn_offsets_mapping\u001b[49m\u001b[38;5;241;43m=\u001b[39;49m\u001b[43mreturn_offsets_mapping\u001b[49m\u001b[43m,\u001b[49m\n\u001b[1;32m   3053\u001b[0m \u001b[43m    \u001b[49m\u001b[43mreturn_length\u001b[49m\u001b[38;5;241;43m=\u001b[39;49m\u001b[43mreturn_length\u001b[49m\u001b[43m,\u001b[49m\n\u001b[1;32m   3054\u001b[0m \u001b[43m    \u001b[49m\u001b[43mverbose\u001b[49m\u001b[38;5;241;43m=\u001b[39;49m\u001b[43mverbose\u001b[49m\u001b[43m,\u001b[49m\n\u001b[1;32m   3055\u001b[0m \u001b[43m    \u001b[49m\u001b[38;5;241;43m*\u001b[39;49m\u001b[38;5;241;43m*\u001b[39;49m\u001b[43mkwargs\u001b[49m\u001b[43m,\u001b[49m\n\u001b[1;32m   3056\u001b[0m \u001b[43m\u001b[49m\u001b[43m)\u001b[49m\n",
      "File \u001b[0;32m~/lca-solvers/venv/lib/python3.11/site-packages/transformers/tokenization_utils_fast.py:576\u001b[0m, in \u001b[0;36mPreTrainedTokenizerFast._encode_plus\u001b[0;34m(self, text, text_pair, add_special_tokens, padding_strategy, truncation_strategy, max_length, stride, is_split_into_words, pad_to_multiple_of, return_tensors, return_token_type_ids, return_attention_mask, return_overflowing_tokens, return_special_tokens_mask, return_offsets_mapping, return_length, verbose, **kwargs)\u001b[0m\n\u001b[1;32m    554\u001b[0m \u001b[38;5;28;01mdef\u001b[39;00m \u001b[38;5;21m_encode_plus\u001b[39m(\n\u001b[1;32m    555\u001b[0m     \u001b[38;5;28mself\u001b[39m,\n\u001b[1;32m    556\u001b[0m     text: Union[TextInput, PreTokenizedInput],\n\u001b[0;32m   (...)\u001b[0m\n\u001b[1;32m    573\u001b[0m     \u001b[38;5;241m*\u001b[39m\u001b[38;5;241m*\u001b[39mkwargs,\n\u001b[1;32m    574\u001b[0m ) \u001b[38;5;241m-\u001b[39m\u001b[38;5;241m>\u001b[39m BatchEncoding:\n\u001b[1;32m    575\u001b[0m     batched_input \u001b[38;5;241m=\u001b[39m [(text, text_pair)] \u001b[38;5;28;01mif\u001b[39;00m text_pair \u001b[38;5;28;01melse\u001b[39;00m [text]\n\u001b[0;32m--> 576\u001b[0m     batched_output \u001b[38;5;241m=\u001b[39m \u001b[38;5;28;43mself\u001b[39;49m\u001b[38;5;241;43m.\u001b[39;49m\u001b[43m_batch_encode_plus\u001b[49m\u001b[43m(\u001b[49m\n\u001b[1;32m    577\u001b[0m \u001b[43m        \u001b[49m\u001b[43mbatched_input\u001b[49m\u001b[43m,\u001b[49m\n\u001b[1;32m    578\u001b[0m \u001b[43m        \u001b[49m\u001b[43mis_split_into_words\u001b[49m\u001b[38;5;241;43m=\u001b[39;49m\u001b[43mis_split_into_words\u001b[49m\u001b[43m,\u001b[49m\n\u001b[1;32m    579\u001b[0m \u001b[43m        \u001b[49m\u001b[43madd_special_tokens\u001b[49m\u001b[38;5;241;43m=\u001b[39;49m\u001b[43madd_special_tokens\u001b[49m\u001b[43m,\u001b[49m\n\u001b[1;32m    580\u001b[0m \u001b[43m        \u001b[49m\u001b[43mpadding_strategy\u001b[49m\u001b[38;5;241;43m=\u001b[39;49m\u001b[43mpadding_strategy\u001b[49m\u001b[43m,\u001b[49m\n\u001b[1;32m    581\u001b[0m \u001b[43m        \u001b[49m\u001b[43mtruncation_strategy\u001b[49m\u001b[38;5;241;43m=\u001b[39;49m\u001b[43mtruncation_strategy\u001b[49m\u001b[43m,\u001b[49m\n\u001b[1;32m    582\u001b[0m \u001b[43m        \u001b[49m\u001b[43mmax_length\u001b[49m\u001b[38;5;241;43m=\u001b[39;49m\u001b[43mmax_length\u001b[49m\u001b[43m,\u001b[49m\n\u001b[1;32m    583\u001b[0m \u001b[43m        \u001b[49m\u001b[43mstride\u001b[49m\u001b[38;5;241;43m=\u001b[39;49m\u001b[43mstride\u001b[49m\u001b[43m,\u001b[49m\n\u001b[1;32m    584\u001b[0m \u001b[43m        \u001b[49m\u001b[43mpad_to_multiple_of\u001b[49m\u001b[38;5;241;43m=\u001b[39;49m\u001b[43mpad_to_multiple_of\u001b[49m\u001b[43m,\u001b[49m\n\u001b[1;32m    585\u001b[0m \u001b[43m        \u001b[49m\u001b[43mreturn_tensors\u001b[49m\u001b[38;5;241;43m=\u001b[39;49m\u001b[43mreturn_tensors\u001b[49m\u001b[43m,\u001b[49m\n\u001b[1;32m    586\u001b[0m \u001b[43m        \u001b[49m\u001b[43mreturn_token_type_ids\u001b[49m\u001b[38;5;241;43m=\u001b[39;49m\u001b[43mreturn_token_type_ids\u001b[49m\u001b[43m,\u001b[49m\n\u001b[1;32m    587\u001b[0m \u001b[43m        \u001b[49m\u001b[43mreturn_attention_mask\u001b[49m\u001b[38;5;241;43m=\u001b[39;49m\u001b[43mreturn_attention_mask\u001b[49m\u001b[43m,\u001b[49m\n\u001b[1;32m    588\u001b[0m \u001b[43m        \u001b[49m\u001b[43mreturn_overflowing_tokens\u001b[49m\u001b[38;5;241;43m=\u001b[39;49m\u001b[43mreturn_overflowing_tokens\u001b[49m\u001b[43m,\u001b[49m\n\u001b[1;32m    589\u001b[0m \u001b[43m        \u001b[49m\u001b[43mreturn_special_tokens_mask\u001b[49m\u001b[38;5;241;43m=\u001b[39;49m\u001b[43mreturn_special_tokens_mask\u001b[49m\u001b[43m,\u001b[49m\n\u001b[1;32m    590\u001b[0m \u001b[43m        \u001b[49m\u001b[43mreturn_offsets_mapping\u001b[49m\u001b[38;5;241;43m=\u001b[39;49m\u001b[43mreturn_offsets_mapping\u001b[49m\u001b[43m,\u001b[49m\n\u001b[1;32m    591\u001b[0m \u001b[43m        \u001b[49m\u001b[43mreturn_length\u001b[49m\u001b[38;5;241;43m=\u001b[39;49m\u001b[43mreturn_length\u001b[49m\u001b[43m,\u001b[49m\n\u001b[1;32m    592\u001b[0m \u001b[43m        \u001b[49m\u001b[43mverbose\u001b[49m\u001b[38;5;241;43m=\u001b[39;49m\u001b[43mverbose\u001b[49m\u001b[43m,\u001b[49m\n\u001b[1;32m    593\u001b[0m \u001b[43m        \u001b[49m\u001b[38;5;241;43m*\u001b[39;49m\u001b[38;5;241;43m*\u001b[39;49m\u001b[43mkwargs\u001b[49m\u001b[43m,\u001b[49m\n\u001b[1;32m    594\u001b[0m \u001b[43m    \u001b[49m\u001b[43m)\u001b[49m\n\u001b[1;32m    596\u001b[0m     \u001b[38;5;66;03m# Return tensor is None, then we can remove the leading batch axis\u001b[39;00m\n\u001b[1;32m    597\u001b[0m     \u001b[38;5;66;03m# Overflowing tokens are returned as a batch of output so we keep them in this case\u001b[39;00m\n\u001b[1;32m    598\u001b[0m     \u001b[38;5;28;01mif\u001b[39;00m return_tensors \u001b[38;5;129;01mis\u001b[39;00m \u001b[38;5;28;01mNone\u001b[39;00m \u001b[38;5;129;01mand\u001b[39;00m \u001b[38;5;129;01mnot\u001b[39;00m return_overflowing_tokens:\n",
      "File \u001b[0;32m~/lca-solvers/venv/lib/python3.11/site-packages/transformers/tokenization_utils_fast.py:504\u001b[0m, in \u001b[0;36mPreTrainedTokenizerFast._batch_encode_plus\u001b[0;34m(self, batch_text_or_text_pairs, add_special_tokens, padding_strategy, truncation_strategy, max_length, stride, is_split_into_words, pad_to_multiple_of, return_tensors, return_token_type_ids, return_attention_mask, return_overflowing_tokens, return_special_tokens_mask, return_offsets_mapping, return_length, verbose)\u001b[0m\n\u001b[1;32m    495\u001b[0m \u001b[38;5;66;03m# Set the truncation and padding strategy and restore the initial configuration\u001b[39;00m\n\u001b[1;32m    496\u001b[0m \u001b[38;5;28mself\u001b[39m\u001b[38;5;241m.\u001b[39mset_truncation_and_padding(\n\u001b[1;32m    497\u001b[0m     padding_strategy\u001b[38;5;241m=\u001b[39mpadding_strategy,\n\u001b[1;32m    498\u001b[0m     truncation_strategy\u001b[38;5;241m=\u001b[39mtruncation_strategy,\n\u001b[0;32m   (...)\u001b[0m\n\u001b[1;32m    501\u001b[0m     pad_to_multiple_of\u001b[38;5;241m=\u001b[39mpad_to_multiple_of,\n\u001b[1;32m    502\u001b[0m )\n\u001b[0;32m--> 504\u001b[0m encodings \u001b[38;5;241m=\u001b[39m \u001b[38;5;28;43mself\u001b[39;49m\u001b[38;5;241;43m.\u001b[39;49m\u001b[43m_tokenizer\u001b[49m\u001b[38;5;241;43m.\u001b[39;49m\u001b[43mencode_batch\u001b[49m\u001b[43m(\u001b[49m\n\u001b[1;32m    505\u001b[0m \u001b[43m    \u001b[49m\u001b[43mbatch_text_or_text_pairs\u001b[49m\u001b[43m,\u001b[49m\n\u001b[1;32m    506\u001b[0m \u001b[43m    \u001b[49m\u001b[43madd_special_tokens\u001b[49m\u001b[38;5;241;43m=\u001b[39;49m\u001b[43madd_special_tokens\u001b[49m\u001b[43m,\u001b[49m\n\u001b[1;32m    507\u001b[0m \u001b[43m    \u001b[49m\u001b[43mis_pretokenized\u001b[49m\u001b[38;5;241;43m=\u001b[39;49m\u001b[43mis_split_into_words\u001b[49m\u001b[43m,\u001b[49m\n\u001b[1;32m    508\u001b[0m \u001b[43m\u001b[49m\u001b[43m)\u001b[49m\n\u001b[1;32m    510\u001b[0m \u001b[38;5;66;03m# Convert encoding to dict\u001b[39;00m\n\u001b[1;32m    511\u001b[0m \u001b[38;5;66;03m# `Tokens` has type: Tuple[\u001b[39;00m\n\u001b[1;32m    512\u001b[0m \u001b[38;5;66;03m#                       List[Dict[str, List[List[int]]]] or List[Dict[str, 2D-Tensor]],\u001b[39;00m\n\u001b[1;32m    513\u001b[0m \u001b[38;5;66;03m#                       List[EncodingFast]\u001b[39;00m\n\u001b[1;32m    514\u001b[0m \u001b[38;5;66;03m#                    ]\u001b[39;00m\n\u001b[1;32m    515\u001b[0m \u001b[38;5;66;03m# with nested dimensions corresponding to batch, overflows, sequence length\u001b[39;00m\n\u001b[1;32m    516\u001b[0m tokens_and_encodings \u001b[38;5;241m=\u001b[39m [\n\u001b[1;32m    517\u001b[0m     \u001b[38;5;28mself\u001b[39m\u001b[38;5;241m.\u001b[39m_convert_encoding(\n\u001b[1;32m    518\u001b[0m         encoding\u001b[38;5;241m=\u001b[39mencoding,\n\u001b[0;32m   (...)\u001b[0m\n\u001b[1;32m    527\u001b[0m     \u001b[38;5;28;01mfor\u001b[39;00m encoding \u001b[38;5;129;01min\u001b[39;00m encodings\n\u001b[1;32m    528\u001b[0m ]\n",
      "\u001b[0;31mKeyboardInterrupt\u001b[0m: "
     ]
    }
   ],
   "source": [
    "for tf in range(1, 16):\n",
    "    get_val_loss(model_lora, token_factor=tf, true_completion_lens=true_completion_lens)"
   ]
  },
  {
   "cell_type": "code",
   "execution_count": null,
   "id": "d527d372-8ce9-4e66-8594-489158ac60a2",
   "metadata": {},
   "outputs": [],
   "source": []
  },
  {
   "cell_type": "code",
   "execution_count": null,
   "id": "1d88f938-cf48-4c8a-a88e-fb03cf917fe7",
   "metadata": {},
   "outputs": [],
   "source": [
    "# print(len(train_losses))"
   ]
  },
  {
   "cell_type": "code",
   "execution_count": null,
   "id": "5a1eca24-d86c-4f50-8657-c490c27b3dfb",
   "metadata": {},
   "outputs": [],
   "source": [
    "# import matplotlib.pyplot as plt\n",
    "\n",
    "# plt.figure(figsize=(10, 5))\n",
    "# plt.plot(train_losses, marker='o')\n",
    "# plt.title('Training Loss Over Iterations')\n",
    "# plt.xlabel('Iteration')\n",
    "# plt.ylabel('Loss')\n",
    "# plt.grid(True)\n",
    "# plt.show()"
   ]
  },
  {
   "cell_type": "code",
   "execution_count": null,
   "id": "7251787c-7ee5-450e-b557-1c992acc2c8d",
   "metadata": {},
   "outputs": [],
   "source": []
  },
  {
   "cell_type": "code",
   "execution_count": null,
   "id": "d29b7c1f-9a43-4a2d-b0dd-e19906c056ce",
   "metadata": {},
   "outputs": [],
   "source": []
  },
  {
   "cell_type": "code",
   "execution_count": null,
   "id": "e03c5091-7df0-4e2a-af2d-7d6530f40236",
   "metadata": {},
   "outputs": [],
   "source": []
  },
  {
   "cell_type": "code",
   "execution_count": null,
   "id": "285f793e-b0b9-445f-a6d5-b2d5c4b7ae36",
   "metadata": {},
   "outputs": [],
   "source": []
  },
  {
   "cell_type": "code",
   "execution_count": null,
   "id": "12c3ee0c-245e-471a-a157-f8e5125ca2bd",
   "metadata": {},
   "outputs": [],
   "source": []
  },
  {
   "cell_type": "code",
   "execution_count": null,
   "id": "d63b6fb2-b2d4-4573-9c76-610844f66e74",
   "metadata": {},
   "outputs": [],
   "source": []
  },
  {
   "cell_type": "code",
   "execution_count": null,
   "id": "6fce60b1-8b6f-4da8-b660-98caaec95580",
   "metadata": {},
   "outputs": [],
   "source": []
  },
  {
   "cell_type": "code",
   "execution_count": null,
   "id": "eec3b0db-1087-4926-ad9e-d2a041cdd6b8",
   "metadata": {},
   "outputs": [],
   "source": []
  }
 ],
 "metadata": {
  "kernelspec": {
   "display_name": "Python 3 (ipykernel)",
   "language": "python",
   "name": "python3"
  },
  "language_info": {
   "codemirror_mode": {
    "name": "ipython",
    "version": 3
   },
   "file_extension": ".py",
   "mimetype": "text/x-python",
   "name": "python",
   "nbconvert_exporter": "python",
   "pygments_lexer": "ipython3",
   "version": "3.11.3"
  }
 },
 "nbformat": 4,
 "nbformat_minor": 5
}
